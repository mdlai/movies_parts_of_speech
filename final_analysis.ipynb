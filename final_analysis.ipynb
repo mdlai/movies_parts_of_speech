{
 "cells": [
  {
   "cell_type": "code",
   "execution_count": 1,
   "metadata": {
    "collapsed": false
   },
   "outputs": [],
   "source": [
    "from sklearn.cross_validation import train_test_split\n",
    "from sklearn.linear_model import LinearRegression\n",
    "from sklearn.linear_model import Ridge\n",
    "import pylab \n",
    "import scipy.stats as stats\n",
    "import pandas as pd\n",
    "import matplotlib.pyplot as plt\n",
    "import numpy as np\n",
    "import seaborn as sns\n",
    "import string\n",
    "import math\n",
    "\n",
    "import warnings\n",
    "warnings.filterwarnings('ignore')\n",
    "\n",
    "%matplotlib inline"
   ]
  },
  {
   "cell_type": "code",
   "execution_count": 2,
   "metadata": {
    "collapsed": true
   },
   "outputs": [],
   "source": [
    "from spacy.parts_of_speech import ADV\n",
    "from spacy.en import English\n",
    "parser = English()"
   ]
  },
  {
   "cell_type": "code",
   "execution_count": 3,
   "metadata": {
    "collapsed": true
   },
   "outputs": [],
   "source": [
    "#Constants\n",
    "TAGS = ['ADJ', 'ADV', 'ADP', 'CONJ', 'DET', 'NOUN', 'NUM', 'PUNCT','VERB']"
   ]
  },
  {
   "cell_type": "markdown",
   "metadata": {},
   "source": [
    "# Cleaning Data"
   ]
  },
  {
   "cell_type": "code",
   "execution_count": 4,
   "metadata": {
    "collapsed": true
   },
   "outputs": [],
   "source": [
    "movies = pd.read_csv(\"movies.csv\")"
   ]
  },
  {
   "cell_type": "code",
   "execution_count": 5,
   "metadata": {
    "collapsed": true
   },
   "outputs": [],
   "source": [
    "def title_pos(title):\n",
    "    p_title = parser(title.decode('utf-8'))\n",
    "    tokencount = {}\n",
    "    for token in p_title:\n",
    "        tokencount[token.pos_] = tokencount.get(token.pos_,0) + 1\n",
    "    return tokencount"
   ]
  },
  {
   "cell_type": "code",
   "execution_count": 6,
   "metadata": {
    "collapsed": false
   },
   "outputs": [],
   "source": [
    "movies['POS'] = map(lambda x: title_pos(x),movies['Title'])"
   ]
  },
  {
   "cell_type": "code",
   "execution_count": 7,
   "metadata": {
    "collapsed": false,
    "scrolled": true
   },
   "outputs": [],
   "source": [
    "movies['Total Gross'] = map(lambda x: x.translate(None, string.punctuation),movies['Total Gross'])\n",
    "movies['Total Gross'] = movies['Total Gross'].replace('n/a',np.nan)\n",
    "movies['Total Gross'] = movies['Total Gross'].replace('na', np.nan)\n",
    "movies = movies[movies['Total Gross'].notnull()]"
   ]
  },
  {
   "cell_type": "code",
   "execution_count": 8,
   "metadata": {
    "collapsed": false
   },
   "outputs": [],
   "source": [
    "movies['Total Gross'] = map(lambda x: int(x),movies['Total Gross'])"
   ]
  },
  {
   "cell_type": "code",
   "execution_count": 9,
   "metadata": {
    "collapsed": true
   },
   "outputs": [],
   "source": [
    "def column_to_int(df,col):\n",
    "    df[col] = map(lambda x: x.translate(None, string.punctuation),df[col])\n",
    "    df[col] = df[col].replace('n/a',np.nan)\n",
    "    df[col] = df[col].replace('na', np.nan)\n",
    "    df = df[df[col].notnull()]\n",
    "    df[col] = map(lambda x: int(x),df[col])\n",
    "    return df"
   ]
  },
  {
   "cell_type": "code",
   "execution_count": 10,
   "metadata": {
    "collapsed": true
   },
   "outputs": [],
   "source": [
    "for tag in TAGS:\n",
    "    movies[tag] = map(lambda x: x.get(tag,0),movies['POS'])"
   ]
  },
  {
   "cell_type": "code",
   "execution_count": 11,
   "metadata": {
    "collapsed": false,
    "scrolled": false
   },
   "outputs": [],
   "source": [
    "movies = column_to_int(movies,'TTheaters')"
   ]
  },
  {
   "cell_type": "code",
   "execution_count": 12,
   "metadata": {
    "collapsed": true
   },
   "outputs": [],
   "source": [
    "movies['Total Gross Log'] = map(lambda x:math.log(x,10), movies['Total Gross'])"
   ]
  },
  {
   "cell_type": "code",
   "execution_count": 13,
   "metadata": {
    "collapsed": false
   },
   "outputs": [
    {
     "data": {
      "text/html": [
       "<div>\n",
       "<table border=\"1\" class=\"dataframe\">\n",
       "  <thead>\n",
       "    <tr style=\"text-align: right;\">\n",
       "      <th></th>\n",
       "      <th>Title</th>\n",
       "      <th>Studio</th>\n",
       "      <th>Total Gross</th>\n",
       "      <th>TTheaters</th>\n",
       "      <th>Opening</th>\n",
       "      <th>OTheaters</th>\n",
       "      <th>Open</th>\n",
       "      <th>POS</th>\n",
       "      <th>ADJ</th>\n",
       "      <th>ADV</th>\n",
       "      <th>ADP</th>\n",
       "      <th>CONJ</th>\n",
       "      <th>DET</th>\n",
       "      <th>NOUN</th>\n",
       "      <th>NUM</th>\n",
       "      <th>PUNCT</th>\n",
       "      <th>VERB</th>\n",
       "      <th>Total Gross Log</th>\n",
       "    </tr>\n",
       "  </thead>\n",
       "  <tbody>\n",
       "    <tr>\n",
       "      <th>1727</th>\n",
       "      <td>Borat: Cultural Learnings of America for Make ...</td>\n",
       "      <td>Fox</td>\n",
       "      <td>128505958</td>\n",
       "      <td>2611</td>\n",
       "      <td>26,455,463</td>\n",
       "      <td>837</td>\n",
       "      <td>11/3/2006</td>\n",
       "      <td>{u'ADJ': 1, u'PUNCT': 1, u'NOUN': 8, u'ADP': 3}</td>\n",
       "      <td>1</td>\n",
       "      <td>0</td>\n",
       "      <td>3</td>\n",
       "      <td>0</td>\n",
       "      <td>0</td>\n",
       "      <td>8</td>\n",
       "      <td>0</td>\n",
       "      <td>1</td>\n",
       "      <td>0</td>\n",
       "      <td>8.108923</td>\n",
       "    </tr>\n",
       "    <tr>\n",
       "      <th>14096</th>\n",
       "      <td>Tim Burton's The Nightmare Before Christmas in...</td>\n",
       "      <td>BV</td>\n",
       "      <td>1109188</td>\n",
       "      <td>284</td>\n",
       "      <td>398,411</td>\n",
       "      <td>284</td>\n",
       "      <td>10/24/2008</td>\n",
       "      <td>{u'NOUN': 6, u'ADP': 3, u'DET': 1, u'PUNCT': 3...</td>\n",
       "      <td>0</td>\n",
       "      <td>0</td>\n",
       "      <td>3</td>\n",
       "      <td>0</td>\n",
       "      <td>1</td>\n",
       "      <td>6</td>\n",
       "      <td>1</td>\n",
       "      <td>3</td>\n",
       "      <td>0</td>\n",
       "      <td>6.045005</td>\n",
       "    </tr>\n",
       "    <tr>\n",
       "      <th>14098</th>\n",
       "      <td>Tim Burton's The Nightmare Before Christmas in...</td>\n",
       "      <td>BV</td>\n",
       "      <td>14486897</td>\n",
       "      <td>564</td>\n",
       "      <td>5,330,101</td>\n",
       "      <td>564</td>\n",
       "      <td>10/19/2007</td>\n",
       "      <td>{u'NOUN': 8, u'ADP': 3, u'DET': 1, u'PUNCT': 3...</td>\n",
       "      <td>0</td>\n",
       "      <td>0</td>\n",
       "      <td>3</td>\n",
       "      <td>0</td>\n",
       "      <td>1</td>\n",
       "      <td>8</td>\n",
       "      <td>1</td>\n",
       "      <td>3</td>\n",
       "      <td>0</td>\n",
       "      <td>7.160975</td>\n",
       "    </tr>\n",
       "    <tr>\n",
       "      <th>6807</th>\n",
       "      <td>In No Great Hurry: 13 Lessons in Life with Sau...</td>\n",
       "      <td>mTuck</td>\n",
       "      <td>12133</td>\n",
       "      <td>4</td>\n",
       "      <td>6,100</td>\n",
       "      <td>1</td>\n",
       "      <td>1/3/2014</td>\n",
       "      <td>{u'NOUN': 6, u'NUM': 1, u'DET': 1, u'ADP': 3, ...</td>\n",
       "      <td>0</td>\n",
       "      <td>0</td>\n",
       "      <td>3</td>\n",
       "      <td>0</td>\n",
       "      <td>1</td>\n",
       "      <td>6</td>\n",
       "      <td>1</td>\n",
       "      <td>1</td>\n",
       "      <td>0</td>\n",
       "      <td>4.083968</td>\n",
       "    </tr>\n",
       "    <tr>\n",
       "      <th>8436</th>\n",
       "      <td>The Lord of the Rings: The Fellowship of the R...</td>\n",
       "      <td>WB</td>\n",
       "      <td>768580</td>\n",
       "      <td>522</td>\n",
       "      <td>n/a</td>\n",
       "      <td>n/a</td>\n",
       "      <td>6/14/2011</td>\n",
       "      <td>{u'NOUN': 5, u'NUM': 1, u'DET': 4, u'ADP': 3, ...</td>\n",
       "      <td>0</td>\n",
       "      <td>0</td>\n",
       "      <td>3</td>\n",
       "      <td>0</td>\n",
       "      <td>4</td>\n",
       "      <td>5</td>\n",
       "      <td>1</td>\n",
       "      <td>4</td>\n",
       "      <td>0</td>\n",
       "      <td>5.885689</td>\n",
       "    </tr>\n",
       "    <tr>\n",
       "      <th>6819</th>\n",
       "      <td>In the Face of Evil: Reagan's War in Word and ...</td>\n",
       "      <td>NFF</td>\n",
       "      <td>110577</td>\n",
       "      <td>15</td>\n",
       "      <td>46,975</td>\n",
       "      <td>6</td>\n",
       "      <td>10/1/2004</td>\n",
       "      <td>{u'NOUN': 6, u'ADP': 3, u'DET': 1, u'PUNCT': 1...</td>\n",
       "      <td>0</td>\n",
       "      <td>0</td>\n",
       "      <td>3</td>\n",
       "      <td>1</td>\n",
       "      <td>1</td>\n",
       "      <td>6</td>\n",
       "      <td>0</td>\n",
       "      <td>1</td>\n",
       "      <td>0</td>\n",
       "      <td>5.043665</td>\n",
       "    </tr>\n",
       "    <tr>\n",
       "      <th>186</th>\n",
       "      <td>Ain't In It For My Health: A Film About Levon ...</td>\n",
       "      <td>KL</td>\n",
       "      <td>113966</td>\n",
       "      <td>10</td>\n",
       "      <td>7,937</td>\n",
       "      <td>1</td>\n",
       "      <td>4/19/2013</td>\n",
       "      <td>{u'ADV': 1, u'NOUN': 5, u'ADP': 3, u'DET': 1, ...</td>\n",
       "      <td>1</td>\n",
       "      <td>1</td>\n",
       "      <td>3</td>\n",
       "      <td>0</td>\n",
       "      <td>1</td>\n",
       "      <td>5</td>\n",
       "      <td>0</td>\n",
       "      <td>1</td>\n",
       "      <td>1</td>\n",
       "      <td>5.056775</td>\n",
       "    </tr>\n",
       "    <tr>\n",
       "      <th>8438</th>\n",
       "      <td>The Lord of the Rings: The Return of the King ...</td>\n",
       "      <td>WB</td>\n",
       "      <td>818580</td>\n",
       "      <td>521</td>\n",
       "      <td>n/a</td>\n",
       "      <td>n/a</td>\n",
       "      <td>6/28/2011</td>\n",
       "      <td>{u'NOUN': 5, u'NUM': 1, u'DET': 4, u'ADP': 3, ...</td>\n",
       "      <td>0</td>\n",
       "      <td>0</td>\n",
       "      <td>3</td>\n",
       "      <td>0</td>\n",
       "      <td>4</td>\n",
       "      <td>5</td>\n",
       "      <td>1</td>\n",
       "      <td>4</td>\n",
       "      <td>0</td>\n",
       "      <td>5.913061</td>\n",
       "    </tr>\n",
       "    <tr>\n",
       "      <th>14097</th>\n",
       "      <td>Tim Burton's The Nightmare Before Christmas in...</td>\n",
       "      <td>BV</td>\n",
       "      <td>406085</td>\n",
       "      <td>105</td>\n",
       "      <td>143,289</td>\n",
       "      <td>105</td>\n",
       "      <td>10/23/2009</td>\n",
       "      <td>{u'NOUN': 6, u'ADP': 3, u'DET': 1, u'PUNCT': 3...</td>\n",
       "      <td>0</td>\n",
       "      <td>0</td>\n",
       "      <td>3</td>\n",
       "      <td>0</td>\n",
       "      <td>1</td>\n",
       "      <td>6</td>\n",
       "      <td>1</td>\n",
       "      <td>3</td>\n",
       "      <td>0</td>\n",
       "      <td>5.608617</td>\n",
       "    </tr>\n",
       "    <tr>\n",
       "      <th>763</th>\n",
       "      <td>At Play in the Fields of the Lord</td>\n",
       "      <td>Uni.</td>\n",
       "      <td>1345903</td>\n",
       "      <td>25</td>\n",
       "      <td>118,162</td>\n",
       "      <td>11</td>\n",
       "      <td>12/6/1991</td>\n",
       "      <td>{u'DET': 2, u'NOUN': 3, u'ADP': 3}</td>\n",
       "      <td>0</td>\n",
       "      <td>0</td>\n",
       "      <td>3</td>\n",
       "      <td>0</td>\n",
       "      <td>2</td>\n",
       "      <td>3</td>\n",
       "      <td>0</td>\n",
       "      <td>0</td>\n",
       "      <td>0</td>\n",
       "      <td>6.129014</td>\n",
       "    </tr>\n",
       "    <tr>\n",
       "      <th>3715</th>\n",
       "      <td>Don't Be a Menace to South Central While Drink...</td>\n",
       "      <td>Mira.</td>\n",
       "      <td>20109115</td>\n",
       "      <td>1010</td>\n",
       "      <td>8,112,884</td>\n",
       "      <td>1,010</td>\n",
       "      <td>1/12/1996</td>\n",
       "      <td>{u'ADV': 1, u'NOUN': 6, u'ADP': 3, u'DET': 2, ...</td>\n",
       "      <td>1</td>\n",
       "      <td>1</td>\n",
       "      <td>3</td>\n",
       "      <td>0</td>\n",
       "      <td>2</td>\n",
       "      <td>6</td>\n",
       "      <td>0</td>\n",
       "      <td>0</td>\n",
       "      <td>2</td>\n",
       "      <td>7.303393</td>\n",
       "    </tr>\n",
       "    <tr>\n",
       "      <th>5049</th>\n",
       "      <td>From Mayerling to Sarajevo (2015 re-issue)</td>\n",
       "      <td>FDesk</td>\n",
       "      <td>5247</td>\n",
       "      <td>1</td>\n",
       "      <td>5,247</td>\n",
       "      <td>1</td>\n",
       "      <td>3/27/2015</td>\n",
       "      <td>{u'PUNCT': 3, u'NUM': 1, u'NOUN': 3, u'ADP': 3}</td>\n",
       "      <td>0</td>\n",
       "      <td>0</td>\n",
       "      <td>3</td>\n",
       "      <td>0</td>\n",
       "      <td>0</td>\n",
       "      <td>3</td>\n",
       "      <td>1</td>\n",
       "      <td>3</td>\n",
       "      <td>0</td>\n",
       "      <td>3.719911</td>\n",
       "    </tr>\n",
       "    <tr>\n",
       "      <th>10394</th>\n",
       "      <td>The Optimists: The Story of the Rescue of the ...</td>\n",
       "      <td>Castle</td>\n",
       "      <td>2377</td>\n",
       "      <td>1</td>\n",
       "      <td>2,377</td>\n",
       "      <td>1</td>\n",
       "      <td>10/21/2005</td>\n",
       "      <td>{u'ADJ': 1, u'NOUN': 5, u'DET': 5, u'ADP': 3, ...</td>\n",
       "      <td>1</td>\n",
       "      <td>0</td>\n",
       "      <td>3</td>\n",
       "      <td>0</td>\n",
       "      <td>5</td>\n",
       "      <td>5</td>\n",
       "      <td>0</td>\n",
       "      <td>1</td>\n",
       "      <td>0</td>\n",
       "      <td>3.376029</td>\n",
       "    </tr>\n",
       "    <tr>\n",
       "      <th>6928</th>\n",
       "      <td>Inside the Mind of Leonardo Da Vinci in 3D</td>\n",
       "      <td>SD</td>\n",
       "      <td>10600</td>\n",
       "      <td>5</td>\n",
       "      <td>n/a</td>\n",
       "      <td>n/a</td>\n",
       "      <td>12/19/2014</td>\n",
       "      <td>{u'NOUN': 5, u'DET': 1, u'ADP': 3}</td>\n",
       "      <td>0</td>\n",
       "      <td>0</td>\n",
       "      <td>3</td>\n",
       "      <td>0</td>\n",
       "      <td>1</td>\n",
       "      <td>5</td>\n",
       "      <td>0</td>\n",
       "      <td>0</td>\n",
       "      <td>0</td>\n",
       "      <td>4.025306</td>\n",
       "    </tr>\n",
       "    <tr>\n",
       "      <th>5056</th>\n",
       "      <td>From Up on Poppy Hill</td>\n",
       "      <td>GK</td>\n",
       "      <td>1002895</td>\n",
       "      <td>49</td>\n",
       "      <td>57,585</td>\n",
       "      <td>2</td>\n",
       "      <td>3/15/2013</td>\n",
       "      <td>{u'NOUN': 2, u'ADP': 3}</td>\n",
       "      <td>0</td>\n",
       "      <td>0</td>\n",
       "      <td>3</td>\n",
       "      <td>0</td>\n",
       "      <td>0</td>\n",
       "      <td>2</td>\n",
       "      <td>0</td>\n",
       "      <td>0</td>\n",
       "      <td>0</td>\n",
       "      <td>6.001255</td>\n",
       "    </tr>\n",
       "    <tr>\n",
       "      <th>10782</th>\n",
       "      <td>The Perils of Gwendolyn in the Land of Yik Yak</td>\n",
       "      <td>Gold.</td>\n",
       "      <td>1337274</td>\n",
       "      <td>500</td>\n",
       "      <td>1,337,274</td>\n",
       "      <td>500</td>\n",
       "      <td>1/25/1985</td>\n",
       "      <td>{u'NOUN': 5, u'DET': 2, u'ADP': 3}</td>\n",
       "      <td>0</td>\n",
       "      <td>0</td>\n",
       "      <td>3</td>\n",
       "      <td>0</td>\n",
       "      <td>2</td>\n",
       "      <td>5</td>\n",
       "      <td>0</td>\n",
       "      <td>0</td>\n",
       "      <td>0</td>\n",
       "      <td>6.126220</td>\n",
       "    </tr>\n",
       "    <tr>\n",
       "      <th>3551</th>\n",
       "      <td>Diary of a Country Priest (2011 re-release)</td>\n",
       "      <td>Rialto</td>\n",
       "      <td>46979</td>\n",
       "      <td>2</td>\n",
       "      <td>7,674</td>\n",
       "      <td>1</td>\n",
       "      <td>2/25/2011</td>\n",
       "      <td>{u'DET': 1, u'NUM': 1, u'NOUN': 4, u'ADP': 2, ...</td>\n",
       "      <td>0</td>\n",
       "      <td>0</td>\n",
       "      <td>2</td>\n",
       "      <td>0</td>\n",
       "      <td>1</td>\n",
       "      <td>4</td>\n",
       "      <td>1</td>\n",
       "      <td>3</td>\n",
       "      <td>0</td>\n",
       "      <td>4.671904</td>\n",
       "    </tr>\n",
       "    <tr>\n",
       "      <th>12515</th>\n",
       "      <td>She's Out of Control</td>\n",
       "      <td>Col.</td>\n",
       "      <td>12065892</td>\n",
       "      <td>987</td>\n",
       "      <td>3,653,142</td>\n",
       "      <td>987</td>\n",
       "      <td>4/14/1989</td>\n",
       "      <td>{u'VERB': 1, u'NOUN': 2, u'ADP': 2}</td>\n",
       "      <td>0</td>\n",
       "      <td>0</td>\n",
       "      <td>2</td>\n",
       "      <td>0</td>\n",
       "      <td>0</td>\n",
       "      <td>2</td>\n",
       "      <td>0</td>\n",
       "      <td>0</td>\n",
       "      <td>1</td>\n",
       "      <td>7.081559</td>\n",
       "    </tr>\n",
       "    <tr>\n",
       "      <th>8681</th>\n",
       "      <td>Made in U.S.A. (re-issue)</td>\n",
       "      <td>Rialto</td>\n",
       "      <td>95209</td>\n",
       "      <td>2</td>\n",
       "      <td>11,147</td>\n",
       "      <td>1</td>\n",
       "      <td>1/9/2009</td>\n",
       "      <td>{u'PUNCT': 3, u'VERB': 1, u'NOUN': 2, u'ADP': 2}</td>\n",
       "      <td>0</td>\n",
       "      <td>0</td>\n",
       "      <td>2</td>\n",
       "      <td>0</td>\n",
       "      <td>0</td>\n",
       "      <td>2</td>\n",
       "      <td>0</td>\n",
       "      <td>3</td>\n",
       "      <td>1</td>\n",
       "      <td>4.978678</td>\n",
       "    </tr>\n",
       "    <tr>\n",
       "      <th>14756</th>\n",
       "      <td>Up and Down</td>\n",
       "      <td>SPC</td>\n",
       "      <td>245127</td>\n",
       "      <td>16</td>\n",
       "      <td>25,144</td>\n",
       "      <td>6</td>\n",
       "      <td>2/25/2005</td>\n",
       "      <td>{u'CONJ': 1, u'ADP': 2}</td>\n",
       "      <td>0</td>\n",
       "      <td>0</td>\n",
       "      <td>2</td>\n",
       "      <td>1</td>\n",
       "      <td>0</td>\n",
       "      <td>0</td>\n",
       "      <td>0</td>\n",
       "      <td>0</td>\n",
       "      <td>0</td>\n",
       "      <td>5.389391</td>\n",
       "    </tr>\n",
       "    <tr>\n",
       "      <th>14709</th>\n",
       "      <td>Until the End of the World</td>\n",
       "      <td>WB</td>\n",
       "      <td>829625</td>\n",
       "      <td>22</td>\n",
       "      <td>38,553</td>\n",
       "      <td>4</td>\n",
       "      <td>12/27/1991</td>\n",
       "      <td>{u'NOUN': 2, u'DET': 2, u'ADP': 2}</td>\n",
       "      <td>0</td>\n",
       "      <td>0</td>\n",
       "      <td>2</td>\n",
       "      <td>0</td>\n",
       "      <td>2</td>\n",
       "      <td>2</td>\n",
       "      <td>0</td>\n",
       "      <td>0</td>\n",
       "      <td>0</td>\n",
       "      <td>5.918882</td>\n",
       "    </tr>\n",
       "    <tr>\n",
       "      <th>10859</th>\n",
       "      <td>Picnic at Hanging Rock (Re-issue)</td>\n",
       "      <td>Kit</td>\n",
       "      <td>232201</td>\n",
       "      <td>5</td>\n",
       "      <td>27,492</td>\n",
       "      <td>5</td>\n",
       "      <td>6/26/1998</td>\n",
       "      <td>{u'PUNCT': 3, u'VERB': 1, u'NOUN': 3, u'ADP': 2}</td>\n",
       "      <td>0</td>\n",
       "      <td>0</td>\n",
       "      <td>2</td>\n",
       "      <td>0</td>\n",
       "      <td>0</td>\n",
       "      <td>3</td>\n",
       "      <td>0</td>\n",
       "      <td>3</td>\n",
       "      <td>1</td>\n",
       "      <td>5.365864</td>\n",
       "    </tr>\n",
       "    <tr>\n",
       "      <th>3542</th>\n",
       "      <td>Dial 'M' for Murder (Re-issue)</td>\n",
       "      <td>WB</td>\n",
       "      <td>12562</td>\n",
       "      <td>1</td>\n",
       "      <td>12,562</td>\n",
       "      <td>1</td>\n",
       "      <td>4/9/1999</td>\n",
       "      <td>{u'PUNCT': 5, u'NOUN': 4, u'ADP': 2}</td>\n",
       "      <td>0</td>\n",
       "      <td>0</td>\n",
       "      <td>2</td>\n",
       "      <td>0</td>\n",
       "      <td>0</td>\n",
       "      <td>4</td>\n",
       "      <td>0</td>\n",
       "      <td>5</td>\n",
       "      <td>0</td>\n",
       "      <td>4.099059</td>\n",
       "    </tr>\n",
       "    <tr>\n",
       "      <th>7306</th>\n",
       "      <td>Journey to the Center of the Earth</td>\n",
       "      <td>WB (NL)</td>\n",
       "      <td>101704370</td>\n",
       "      <td>2830</td>\n",
       "      <td>21,018,141</td>\n",
       "      <td>2,811</td>\n",
       "      <td>7/11/2008</td>\n",
       "      <td>{u'DET': 2, u'NOUN': 3, u'ADP': 2}</td>\n",
       "      <td>0</td>\n",
       "      <td>0</td>\n",
       "      <td>2</td>\n",
       "      <td>0</td>\n",
       "      <td>2</td>\n",
       "      <td>3</td>\n",
       "      <td>0</td>\n",
       "      <td>0</td>\n",
       "      <td>0</td>\n",
       "      <td>8.007340</td>\n",
       "    </tr>\n",
       "    <tr>\n",
       "      <th>7304</th>\n",
       "      <td>A Journey Through Time with Anthony</td>\n",
       "      <td>CL</td>\n",
       "      <td>127381</td>\n",
       "      <td>17</td>\n",
       "      <td>55,292</td>\n",
       "      <td>17</td>\n",
       "      <td>11/18/2015</td>\n",
       "      <td>{u'NOUN': 3, u'DET': 1, u'ADP': 2}</td>\n",
       "      <td>0</td>\n",
       "      <td>0</td>\n",
       "      <td>2</td>\n",
       "      <td>0</td>\n",
       "      <td>1</td>\n",
       "      <td>3</td>\n",
       "      <td>0</td>\n",
       "      <td>0</td>\n",
       "      <td>0</td>\n",
       "      <td>5.105105</td>\n",
       "    </tr>\n",
       "    <tr>\n",
       "      <th>10476</th>\n",
       "      <td>Out in the Dark</td>\n",
       "      <td>BGP</td>\n",
       "      <td>26966</td>\n",
       "      <td>6</td>\n",
       "      <td>14,067</td>\n",
       "      <td>6</td>\n",
       "      <td>9/27/2013</td>\n",
       "      <td>{u'NOUN': 1, u'DET': 1, u'ADP': 2}</td>\n",
       "      <td>0</td>\n",
       "      <td>0</td>\n",
       "      <td>2</td>\n",
       "      <td>0</td>\n",
       "      <td>1</td>\n",
       "      <td>1</td>\n",
       "      <td>0</td>\n",
       "      <td>0</td>\n",
       "      <td>0</td>\n",
       "      <td>4.430817</td>\n",
       "    </tr>\n",
       "    <tr>\n",
       "      <th>10477</th>\n",
       "      <td>Out of Africa</td>\n",
       "      <td>Uni.</td>\n",
       "      <td>87071205</td>\n",
       "      <td>1102</td>\n",
       "      <td>3,637,290</td>\n",
       "      <td>922</td>\n",
       "      <td>12/20/1985</td>\n",
       "      <td>{u'NOUN': 1, u'ADP': 2}</td>\n",
       "      <td>0</td>\n",
       "      <td>0</td>\n",
       "      <td>2</td>\n",
       "      <td>0</td>\n",
       "      <td>0</td>\n",
       "      <td>1</td>\n",
       "      <td>0</td>\n",
       "      <td>0</td>\n",
       "      <td>0</td>\n",
       "      <td>7.939875</td>\n",
       "    </tr>\n",
       "    <tr>\n",
       "      <th>10478</th>\n",
       "      <td>Out of Bounds</td>\n",
       "      <td>Col.</td>\n",
       "      <td>5099316</td>\n",
       "      <td>1207</td>\n",
       "      <td>2,144,764</td>\n",
       "      <td>1,207</td>\n",
       "      <td>7/25/1986</td>\n",
       "      <td>{u'NOUN': 1, u'ADP': 2}</td>\n",
       "      <td>0</td>\n",
       "      <td>0</td>\n",
       "      <td>2</td>\n",
       "      <td>0</td>\n",
       "      <td>0</td>\n",
       "      <td>1</td>\n",
       "      <td>0</td>\n",
       "      <td>0</td>\n",
       "      <td>0</td>\n",
       "      <td>6.707512</td>\n",
       "    </tr>\n",
       "    <tr>\n",
       "      <th>10479</th>\n",
       "      <td>Out of Control</td>\n",
       "      <td>Raj.</td>\n",
       "      <td>36486</td>\n",
       "      <td>12</td>\n",
       "      <td>36,486</td>\n",
       "      <td>12</td>\n",
       "      <td>11/21/2003</td>\n",
       "      <td>{u'NOUN': 1, u'ADP': 2}</td>\n",
       "      <td>0</td>\n",
       "      <td>0</td>\n",
       "      <td>2</td>\n",
       "      <td>0</td>\n",
       "      <td>0</td>\n",
       "      <td>1</td>\n",
       "      <td>0</td>\n",
       "      <td>0</td>\n",
       "      <td>0</td>\n",
       "      <td>4.562126</td>\n",
       "    </tr>\n",
       "    <tr>\n",
       "      <th>14759</th>\n",
       "      <td>Up for Grabs</td>\n",
       "      <td>L/Z</td>\n",
       "      <td>13931</td>\n",
       "      <td>4</td>\n",
       "      <td>1,881</td>\n",
       "      <td>2</td>\n",
       "      <td>5/6/2005</td>\n",
       "      <td>{u'NOUN': 1, u'ADP': 2}</td>\n",
       "      <td>0</td>\n",
       "      <td>0</td>\n",
       "      <td>2</td>\n",
       "      <td>0</td>\n",
       "      <td>0</td>\n",
       "      <td>1</td>\n",
       "      <td>0</td>\n",
       "      <td>0</td>\n",
       "      <td>0</td>\n",
       "      <td>4.143982</td>\n",
       "    </tr>\n",
       "    <tr>\n",
       "      <th>...</th>\n",
       "      <td>...</td>\n",
       "      <td>...</td>\n",
       "      <td>...</td>\n",
       "      <td>...</td>\n",
       "      <td>...</td>\n",
       "      <td>...</td>\n",
       "      <td>...</td>\n",
       "      <td>...</td>\n",
       "      <td>...</td>\n",
       "      <td>...</td>\n",
       "      <td>...</td>\n",
       "      <td>...</td>\n",
       "      <td>...</td>\n",
       "      <td>...</td>\n",
       "      <td>...</td>\n",
       "      <td>...</td>\n",
       "      <td>...</td>\n",
       "      <td>...</td>\n",
       "    </tr>\n",
       "    <tr>\n",
       "      <th>7201</th>\n",
       "      <td>Jerry Maguire</td>\n",
       "      <td>Sony</td>\n",
       "      <td>153952592</td>\n",
       "      <td>2531</td>\n",
       "      <td>17,084,296</td>\n",
       "      <td>2,531</td>\n",
       "      <td>12/13/1996</td>\n",
       "      <td>{u'NOUN': 2}</td>\n",
       "      <td>0</td>\n",
       "      <td>0</td>\n",
       "      <td>0</td>\n",
       "      <td>0</td>\n",
       "      <td>0</td>\n",
       "      <td>2</td>\n",
       "      <td>0</td>\n",
       "      <td>0</td>\n",
       "      <td>0</td>\n",
       "      <td>8.187387</td>\n",
       "    </tr>\n",
       "    <tr>\n",
       "      <th>7202</th>\n",
       "      <td>Jersey Boys</td>\n",
       "      <td>WB</td>\n",
       "      <td>47047013</td>\n",
       "      <td>2905</td>\n",
       "      <td>13,319,371</td>\n",
       "      <td>2,905</td>\n",
       "      <td>6/20/2014</td>\n",
       "      <td>{u'NOUN': 2}</td>\n",
       "      <td>0</td>\n",
       "      <td>0</td>\n",
       "      <td>0</td>\n",
       "      <td>0</td>\n",
       "      <td>0</td>\n",
       "      <td>2</td>\n",
       "      <td>0</td>\n",
       "      <td>0</td>\n",
       "      <td>0</td>\n",
       "      <td>7.672532</td>\n",
       "    </tr>\n",
       "    <tr>\n",
       "      <th>7203</th>\n",
       "      <td>Jersey Girl</td>\n",
       "      <td>Mira.</td>\n",
       "      <td>25268157</td>\n",
       "      <td>1821</td>\n",
       "      <td>8,319,171</td>\n",
       "      <td>1,520</td>\n",
       "      <td>3/26/2004</td>\n",
       "      <td>{u'NOUN': 2}</td>\n",
       "      <td>0</td>\n",
       "      <td>0</td>\n",
       "      <td>0</td>\n",
       "      <td>0</td>\n",
       "      <td>0</td>\n",
       "      <td>2</td>\n",
       "      <td>0</td>\n",
       "      <td>0</td>\n",
       "      <td>0</td>\n",
       "      <td>7.402574</td>\n",
       "    </tr>\n",
       "    <tr>\n",
       "      <th>7171</th>\n",
       "      <td>Jaws IV: The Revenge</td>\n",
       "      <td>Uni.</td>\n",
       "      <td>20763013</td>\n",
       "      <td>1611</td>\n",
       "      <td>7,154,890</td>\n",
       "      <td>1,606</td>\n",
       "      <td>7/17/1987</td>\n",
       "      <td>{u'PUNCT': 1, u'DET': 1, u'NOUN': 3}</td>\n",
       "      <td>0</td>\n",
       "      <td>0</td>\n",
       "      <td>0</td>\n",
       "      <td>0</td>\n",
       "      <td>1</td>\n",
       "      <td>3</td>\n",
       "      <td>0</td>\n",
       "      <td>1</td>\n",
       "      <td>0</td>\n",
       "      <td>7.317290</td>\n",
       "    </tr>\n",
       "    <tr>\n",
       "      <th>7170</th>\n",
       "      <td>Jaws 3-D</td>\n",
       "      <td>Uni.</td>\n",
       "      <td>45517055</td>\n",
       "      <td>1311</td>\n",
       "      <td>13,422,500</td>\n",
       "      <td>1,300</td>\n",
       "      <td>7/22/1983</td>\n",
       "      <td>{u'ADJ': 1, u'NOUN': 1}</td>\n",
       "      <td>1</td>\n",
       "      <td>0</td>\n",
       "      <td>0</td>\n",
       "      <td>0</td>\n",
       "      <td>0</td>\n",
       "      <td>1</td>\n",
       "      <td>0</td>\n",
       "      <td>0</td>\n",
       "      <td>0</td>\n",
       "      <td>7.658174</td>\n",
       "    </tr>\n",
       "    <tr>\n",
       "      <th>7168</th>\n",
       "      <td>Jaws 2</td>\n",
       "      <td>Uni.</td>\n",
       "      <td>77737272</td>\n",
       "      <td>640</td>\n",
       "      <td>9,866,023</td>\n",
       "      <td>640</td>\n",
       "      <td>6/16/1978</td>\n",
       "      <td>{u'NUM': 1, u'NOUN': 1}</td>\n",
       "      <td>0</td>\n",
       "      <td>0</td>\n",
       "      <td>0</td>\n",
       "      <td>0</td>\n",
       "      <td>0</td>\n",
       "      <td>1</td>\n",
       "      <td>1</td>\n",
       "      <td>0</td>\n",
       "      <td>0</td>\n",
       "      <td>7.890629</td>\n",
       "    </tr>\n",
       "    <tr>\n",
       "      <th>7153</th>\n",
       "      <td>Janis: Little Girl Blue</td>\n",
       "      <td>FR</td>\n",
       "      <td>343613</td>\n",
       "      <td>26</td>\n",
       "      <td>21,861</td>\n",
       "      <td>2</td>\n",
       "      <td>11/27/2015</td>\n",
       "      <td>{u'PUNCT': 1, u'NOUN': 4}</td>\n",
       "      <td>0</td>\n",
       "      <td>0</td>\n",
       "      <td>0</td>\n",
       "      <td>0</td>\n",
       "      <td>0</td>\n",
       "      <td>4</td>\n",
       "      <td>0</td>\n",
       "      <td>1</td>\n",
       "      <td>0</td>\n",
       "      <td>5.536070</td>\n",
       "    </tr>\n",
       "    <tr>\n",
       "      <th>7139</th>\n",
       "      <td>Jamel Shabazz Street Photographer</td>\n",
       "      <td>APD/C</td>\n",
       "      <td>17992</td>\n",
       "      <td>2</td>\n",
       "      <td>7,105</td>\n",
       "      <td>1</td>\n",
       "      <td>8/2/2013</td>\n",
       "      <td>{u'NOUN': 4}</td>\n",
       "      <td>0</td>\n",
       "      <td>0</td>\n",
       "      <td>0</td>\n",
       "      <td>0</td>\n",
       "      <td>0</td>\n",
       "      <td>4</td>\n",
       "      <td>0</td>\n",
       "      <td>0</td>\n",
       "      <td>0</td>\n",
       "      <td>4.255079</td>\n",
       "    </tr>\n",
       "    <tr>\n",
       "      <th>7140</th>\n",
       "      <td>James and the Giant Peach</td>\n",
       "      <td>BV</td>\n",
       "      <td>28946127</td>\n",
       "      <td>2268</td>\n",
       "      <td>7,539,098</td>\n",
       "      <td>2,262</td>\n",
       "      <td>4/12/1996</td>\n",
       "      <td>{u'DET': 1, u'CONJ': 1, u'NOUN': 3}</td>\n",
       "      <td>0</td>\n",
       "      <td>0</td>\n",
       "      <td>0</td>\n",
       "      <td>1</td>\n",
       "      <td>1</td>\n",
       "      <td>3</td>\n",
       "      <td>0</td>\n",
       "      <td>0</td>\n",
       "      <td>0</td>\n",
       "      <td>7.461590</td>\n",
       "    </tr>\n",
       "    <tr>\n",
       "      <th>7141</th>\n",
       "      <td>James Cameron's Deepsea Challenge 3D</td>\n",
       "      <td>DLA</td>\n",
       "      <td>235659</td>\n",
       "      <td>304</td>\n",
       "      <td>149,879</td>\n",
       "      <td>304</td>\n",
       "      <td>8/8/2014</td>\n",
       "      <td>{u'PART': 1, u'NOUN': 5}</td>\n",
       "      <td>0</td>\n",
       "      <td>0</td>\n",
       "      <td>0</td>\n",
       "      <td>0</td>\n",
       "      <td>0</td>\n",
       "      <td>5</td>\n",
       "      <td>0</td>\n",
       "      <td>0</td>\n",
       "      <td>0</td>\n",
       "      <td>5.372284</td>\n",
       "    </tr>\n",
       "    <tr>\n",
       "      <th>7143</th>\n",
       "      <td>James White</td>\n",
       "      <td>TFA</td>\n",
       "      <td>101368</td>\n",
       "      <td>12</td>\n",
       "      <td>12,007</td>\n",
       "      <td>1</td>\n",
       "      <td>11/13/2015</td>\n",
       "      <td>{u'NOUN': 2}</td>\n",
       "      <td>0</td>\n",
       "      <td>0</td>\n",
       "      <td>0</td>\n",
       "      <td>0</td>\n",
       "      <td>0</td>\n",
       "      <td>2</td>\n",
       "      <td>0</td>\n",
       "      <td>0</td>\n",
       "      <td>0</td>\n",
       "      <td>5.005901</td>\n",
       "    </tr>\n",
       "    <tr>\n",
       "      <th>7145</th>\n",
       "      <td>The Jane Austen Book Club</td>\n",
       "      <td>SPC</td>\n",
       "      <td>3575227</td>\n",
       "      <td>1232</td>\n",
       "      <td>148,549</td>\n",
       "      <td>25</td>\n",
       "      <td>9/21/2007</td>\n",
       "      <td>{u'NOUN': 4, u'DET': 1}</td>\n",
       "      <td>0</td>\n",
       "      <td>0</td>\n",
       "      <td>0</td>\n",
       "      <td>0</td>\n",
       "      <td>1</td>\n",
       "      <td>4</td>\n",
       "      <td>0</td>\n",
       "      <td>0</td>\n",
       "      <td>0</td>\n",
       "      <td>6.553304</td>\n",
       "    </tr>\n",
       "    <tr>\n",
       "      <th>7146</th>\n",
       "      <td>Jane Eyre</td>\n",
       "      <td>Focus</td>\n",
       "      <td>11242660</td>\n",
       "      <td>319</td>\n",
       "      <td>182,885</td>\n",
       "      <td>4</td>\n",
       "      <td>3/11/2011</td>\n",
       "      <td>{u'NOUN': 2}</td>\n",
       "      <td>0</td>\n",
       "      <td>0</td>\n",
       "      <td>0</td>\n",
       "      <td>0</td>\n",
       "      <td>0</td>\n",
       "      <td>2</td>\n",
       "      <td>0</td>\n",
       "      <td>0</td>\n",
       "      <td>0</td>\n",
       "      <td>7.050869</td>\n",
       "    </tr>\n",
       "    <tr>\n",
       "      <th>7148</th>\n",
       "      <td>Jane Eyre (1996)</td>\n",
       "      <td>Mira.</td>\n",
       "      <td>5200601</td>\n",
       "      <td>35</td>\n",
       "      <td>269,929</td>\n",
       "      <td>35</td>\n",
       "      <td>4/12/1996</td>\n",
       "      <td>{u'PUNCT': 2, u'NUM': 1, u'NOUN': 2}</td>\n",
       "      <td>0</td>\n",
       "      <td>0</td>\n",
       "      <td>0</td>\n",
       "      <td>0</td>\n",
       "      <td>0</td>\n",
       "      <td>2</td>\n",
       "      <td>1</td>\n",
       "      <td>2</td>\n",
       "      <td>0</td>\n",
       "      <td>6.716054</td>\n",
       "    </tr>\n",
       "    <tr>\n",
       "      <th>7150</th>\n",
       "      <td>Jane's Journey</td>\n",
       "      <td>FRun</td>\n",
       "      <td>27253</td>\n",
       "      <td>3</td>\n",
       "      <td>6,193</td>\n",
       "      <td>1</td>\n",
       "      <td>9/16/2011</td>\n",
       "      <td>{u'PART': 1, u'NOUN': 2}</td>\n",
       "      <td>0</td>\n",
       "      <td>0</td>\n",
       "      <td>0</td>\n",
       "      <td>0</td>\n",
       "      <td>0</td>\n",
       "      <td>2</td>\n",
       "      <td>0</td>\n",
       "      <td>0</td>\n",
       "      <td>0</td>\n",
       "      <td>4.435414</td>\n",
       "    </tr>\n",
       "    <tr>\n",
       "      <th>7151</th>\n",
       "      <td>Janice Beard</td>\n",
       "      <td>Emp.</td>\n",
       "      <td>11816</td>\n",
       "      <td>4</td>\n",
       "      <td>4,248</td>\n",
       "      <td>3</td>\n",
       "      <td>5/10/2002</td>\n",
       "      <td>{u'NOUN': 2}</td>\n",
       "      <td>0</td>\n",
       "      <td>0</td>\n",
       "      <td>0</td>\n",
       "      <td>0</td>\n",
       "      <td>0</td>\n",
       "      <td>2</td>\n",
       "      <td>0</td>\n",
       "      <td>0</td>\n",
       "      <td>0</td>\n",
       "      <td>4.072470</td>\n",
       "    </tr>\n",
       "    <tr>\n",
       "      <th>7152</th>\n",
       "      <td>Janie Jones</td>\n",
       "      <td>Trib.</td>\n",
       "      <td>6840</td>\n",
       "      <td>2</td>\n",
       "      <td>n/a</td>\n",
       "      <td>n/a</td>\n",
       "      <td>10/28/2011</td>\n",
       "      <td>{u'NOUN': 2}</td>\n",
       "      <td>0</td>\n",
       "      <td>0</td>\n",
       "      <td>0</td>\n",
       "      <td>0</td>\n",
       "      <td>0</td>\n",
       "      <td>2</td>\n",
       "      <td>0</td>\n",
       "      <td>0</td>\n",
       "      <td>0</td>\n",
       "      <td>3.835056</td>\n",
       "    </tr>\n",
       "    <tr>\n",
       "      <th>7154</th>\n",
       "      <td>Janky Promoters</td>\n",
       "      <td>TRR</td>\n",
       "      <td>9069</td>\n",
       "      <td>22</td>\n",
       "      <td>5,702</td>\n",
       "      <td>22</td>\n",
       "      <td>10/16/2009</td>\n",
       "      <td>{u'NOUN': 2}</td>\n",
       "      <td>0</td>\n",
       "      <td>0</td>\n",
       "      <td>0</td>\n",
       "      <td>0</td>\n",
       "      <td>0</td>\n",
       "      <td>2</td>\n",
       "      <td>0</td>\n",
       "      <td>0</td>\n",
       "      <td>0</td>\n",
       "      <td>3.957559</td>\n",
       "    </tr>\n",
       "    <tr>\n",
       "      <th>7167</th>\n",
       "      <td>Jaws</td>\n",
       "      <td>Uni.</td>\n",
       "      <td>260000000</td>\n",
       "      <td>675</td>\n",
       "      <td>7,061,513</td>\n",
       "      <td>409</td>\n",
       "      <td>6/20/1975</td>\n",
       "      <td>{u'NOUN': 1}</td>\n",
       "      <td>0</td>\n",
       "      <td>0</td>\n",
       "      <td>0</td>\n",
       "      <td>0</td>\n",
       "      <td>0</td>\n",
       "      <td>1</td>\n",
       "      <td>0</td>\n",
       "      <td>0</td>\n",
       "      <td>0</td>\n",
       "      <td>8.414973</td>\n",
       "    </tr>\n",
       "    <tr>\n",
       "      <th>7155</th>\n",
       "      <td>The January Man</td>\n",
       "      <td>MGM</td>\n",
       "      <td>4611062</td>\n",
       "      <td>883</td>\n",
       "      <td>1,716,442</td>\n",
       "      <td>876</td>\n",
       "      <td>1/13/1989</td>\n",
       "      <td>{u'NOUN': 2, u'DET': 1}</td>\n",
       "      <td>0</td>\n",
       "      <td>0</td>\n",
       "      <td>0</td>\n",
       "      <td>0</td>\n",
       "      <td>1</td>\n",
       "      <td>2</td>\n",
       "      <td>0</td>\n",
       "      <td>0</td>\n",
       "      <td>0</td>\n",
       "      <td>6.663801</td>\n",
       "    </tr>\n",
       "    <tr>\n",
       "      <th>7156</th>\n",
       "      <td>Japanese Story</td>\n",
       "      <td>IDP</td>\n",
       "      <td>647054</td>\n",
       "      <td>21</td>\n",
       "      <td>23,962</td>\n",
       "      <td>5</td>\n",
       "      <td>12/31/2003</td>\n",
       "      <td>{u'NOUN': 1, u'ADJ': 1}</td>\n",
       "      <td>1</td>\n",
       "      <td>0</td>\n",
       "      <td>0</td>\n",
       "      <td>0</td>\n",
       "      <td>0</td>\n",
       "      <td>1</td>\n",
       "      <td>0</td>\n",
       "      <td>0</td>\n",
       "      <td>0</td>\n",
       "      <td>5.810941</td>\n",
       "    </tr>\n",
       "    <tr>\n",
       "      <th>7157</th>\n",
       "      <td>Japon</td>\n",
       "      <td>Vita.</td>\n",
       "      <td>21900</td>\n",
       "      <td>1</td>\n",
       "      <td>3,562</td>\n",
       "      <td>1</td>\n",
       "      <td>3/19/2003</td>\n",
       "      <td>{u'NOUN': 1}</td>\n",
       "      <td>0</td>\n",
       "      <td>0</td>\n",
       "      <td>0</td>\n",
       "      <td>0</td>\n",
       "      <td>0</td>\n",
       "      <td>1</td>\n",
       "      <td>0</td>\n",
       "      <td>0</td>\n",
       "      <td>0</td>\n",
       "      <td>4.340444</td>\n",
       "    </tr>\n",
       "    <tr>\n",
       "      <th>7158</th>\n",
       "      <td>Jarhead</td>\n",
       "      <td>Uni.</td>\n",
       "      <td>62658220</td>\n",
       "      <td>2448</td>\n",
       "      <td>27,726,210</td>\n",
       "      <td>2,411</td>\n",
       "      <td>11/4/2005</td>\n",
       "      <td>{u'NOUN': 1}</td>\n",
       "      <td>0</td>\n",
       "      <td>0</td>\n",
       "      <td>0</td>\n",
       "      <td>0</td>\n",
       "      <td>0</td>\n",
       "      <td>1</td>\n",
       "      <td>0</td>\n",
       "      <td>0</td>\n",
       "      <td>0</td>\n",
       "      <td>7.796978</td>\n",
       "    </tr>\n",
       "    <tr>\n",
       "      <th>7160</th>\n",
       "      <td>Jason Becker: Not Dead Yet</td>\n",
       "      <td>KL</td>\n",
       "      <td>1294</td>\n",
       "      <td>2</td>\n",
       "      <td>319</td>\n",
       "      <td>2</td>\n",
       "      <td>12/12/2012</td>\n",
       "      <td>{u'ADV': 2, u'PUNCT': 1, u'VERB': 1, u'NOUN': 2}</td>\n",
       "      <td>0</td>\n",
       "      <td>2</td>\n",
       "      <td>0</td>\n",
       "      <td>0</td>\n",
       "      <td>0</td>\n",
       "      <td>2</td>\n",
       "      <td>0</td>\n",
       "      <td>1</td>\n",
       "      <td>1</td>\n",
       "      <td>3.111934</td>\n",
       "    </tr>\n",
       "    <tr>\n",
       "      <th>7162</th>\n",
       "      <td>Jason X</td>\n",
       "      <td>NL</td>\n",
       "      <td>13121555</td>\n",
       "      <td>1879</td>\n",
       "      <td>6,649,006</td>\n",
       "      <td>1,878</td>\n",
       "      <td>4/26/2002</td>\n",
       "      <td>{u'NOUN': 2}</td>\n",
       "      <td>0</td>\n",
       "      <td>0</td>\n",
       "      <td>0</td>\n",
       "      <td>0</td>\n",
       "      <td>0</td>\n",
       "      <td>2</td>\n",
       "      <td>0</td>\n",
       "      <td>0</td>\n",
       "      <td>0</td>\n",
       "      <td>7.117985</td>\n",
       "    </tr>\n",
       "    <tr>\n",
       "      <th>7163</th>\n",
       "      <td>Jason's Lyric</td>\n",
       "      <td>Gram.</td>\n",
       "      <td>20851521</td>\n",
       "      <td>804</td>\n",
       "      <td>5,122,600</td>\n",
       "      <td>804</td>\n",
       "      <td>9/30/1994</td>\n",
       "      <td>{u'PART': 1, u'NOUN': 2}</td>\n",
       "      <td>0</td>\n",
       "      <td>0</td>\n",
       "      <td>0</td>\n",
       "      <td>0</td>\n",
       "      <td>0</td>\n",
       "      <td>2</td>\n",
       "      <td>0</td>\n",
       "      <td>0</td>\n",
       "      <td>0</td>\n",
       "      <td>7.319138</td>\n",
       "    </tr>\n",
       "    <tr>\n",
       "      <th>7164</th>\n",
       "      <td>Jauja</td>\n",
       "      <td>CGld</td>\n",
       "      <td>60231</td>\n",
       "      <td>3</td>\n",
       "      <td>8,314</td>\n",
       "      <td>2</td>\n",
       "      <td>3/20/2015</td>\n",
       "      <td>{u'NOUN': 1}</td>\n",
       "      <td>0</td>\n",
       "      <td>0</td>\n",
       "      <td>0</td>\n",
       "      <td>0</td>\n",
       "      <td>0</td>\n",
       "      <td>1</td>\n",
       "      <td>0</td>\n",
       "      <td>0</td>\n",
       "      <td>0</td>\n",
       "      <td>4.779820</td>\n",
       "    </tr>\n",
       "    <tr>\n",
       "      <th>7165</th>\n",
       "      <td>Java Heat</td>\n",
       "      <td>IFC</td>\n",
       "      <td>1061</td>\n",
       "      <td>1</td>\n",
       "      <td>n/a</td>\n",
       "      <td>1</td>\n",
       "      <td>5/10/2013</td>\n",
       "      <td>{u'NOUN': 2}</td>\n",
       "      <td>0</td>\n",
       "      <td>0</td>\n",
       "      <td>0</td>\n",
       "      <td>0</td>\n",
       "      <td>0</td>\n",
       "      <td>2</td>\n",
       "      <td>0</td>\n",
       "      <td>0</td>\n",
       "      <td>0</td>\n",
       "      <td>3.025715</td>\n",
       "    </tr>\n",
       "    <tr>\n",
       "      <th>7166</th>\n",
       "      <td>Jawbreaker</td>\n",
       "      <td>Sony</td>\n",
       "      <td>3117085</td>\n",
       "      <td>801</td>\n",
       "      <td>1,603,425</td>\n",
       "      <td>801</td>\n",
       "      <td>2/19/1999</td>\n",
       "      <td>{u'NOUN': 1}</td>\n",
       "      <td>0</td>\n",
       "      <td>0</td>\n",
       "      <td>0</td>\n",
       "      <td>0</td>\n",
       "      <td>0</td>\n",
       "      <td>1</td>\n",
       "      <td>0</td>\n",
       "      <td>0</td>\n",
       "      <td>0</td>\n",
       "      <td>6.493749</td>\n",
       "    </tr>\n",
       "    <tr>\n",
       "      <th>19340</th>\n",
       "      <td>[Rec] 2</td>\n",
       "      <td>Magn.</td>\n",
       "      <td>27766</td>\n",
       "      <td>7</td>\n",
       "      <td>8,191</td>\n",
       "      <td>5</td>\n",
       "      <td>7/9/2010</td>\n",
       "      <td>{u'PUNCT': 2, u'NUM': 1, u'NOUN': 1}</td>\n",
       "      <td>0</td>\n",
       "      <td>0</td>\n",
       "      <td>0</td>\n",
       "      <td>0</td>\n",
       "      <td>0</td>\n",
       "      <td>1</td>\n",
       "      <td>1</td>\n",
       "      <td>2</td>\n",
       "      <td>0</td>\n",
       "      <td>4.443513</td>\n",
       "    </tr>\n",
       "  </tbody>\n",
       "</table>\n",
       "<p>15628 rows × 18 columns</p>\n",
       "</div>"
      ],
      "text/plain": [
       "                                                   Title   Studio  \\\n",
       "1727   Borat: Cultural Learnings of America for Make ...      Fox   \n",
       "14096  Tim Burton's The Nightmare Before Christmas in...       BV   \n",
       "14098  Tim Burton's The Nightmare Before Christmas in...       BV   \n",
       "6807   In No Great Hurry: 13 Lessons in Life with Sau...    mTuck   \n",
       "8436   The Lord of the Rings: The Fellowship of the R...       WB   \n",
       "6819   In the Face of Evil: Reagan's War in Word and ...      NFF   \n",
       "186    Ain't In It For My Health: A Film About Levon ...       KL   \n",
       "8438   The Lord of the Rings: The Return of the King ...       WB   \n",
       "14097  Tim Burton's The Nightmare Before Christmas in...       BV   \n",
       "763                    At Play in the Fields of the Lord     Uni.   \n",
       "3715   Don't Be a Menace to South Central While Drink...    Mira.   \n",
       "5049          From Mayerling to Sarajevo (2015 re-issue)    FDesk   \n",
       "10394  The Optimists: The Story of the Rescue of the ...   Castle   \n",
       "6928          Inside the Mind of Leonardo Da Vinci in 3D       SD   \n",
       "5056                               From Up on Poppy Hill       GK   \n",
       "10782     The Perils of Gwendolyn in the Land of Yik Yak    Gold.   \n",
       "3551         Diary of a Country Priest (2011 re-release)   Rialto   \n",
       "12515                               She's Out of Control     Col.   \n",
       "8681                           Made in U.S.A. (re-issue)   Rialto   \n",
       "14756                                        Up and Down      SPC   \n",
       "14709                         Until the End of the World       WB   \n",
       "10859                  Picnic at Hanging Rock (Re-issue)      Kit   \n",
       "3542                      Dial 'M' for Murder (Re-issue)       WB   \n",
       "7306                  Journey to the Center of the Earth  WB (NL)   \n",
       "7304                 A Journey Through Time with Anthony       CL   \n",
       "10476                                    Out in the Dark      BGP   \n",
       "10477                                      Out of Africa     Uni.   \n",
       "10478                                      Out of Bounds     Col.   \n",
       "10479                                     Out of Control     Raj.   \n",
       "14759                                       Up for Grabs      L/Z   \n",
       "...                                                  ...      ...   \n",
       "7201                                       Jerry Maguire     Sony   \n",
       "7202                                         Jersey Boys       WB   \n",
       "7203                                         Jersey Girl    Mira.   \n",
       "7171                                Jaws IV: The Revenge     Uni.   \n",
       "7170                                            Jaws 3-D     Uni.   \n",
       "7168                                              Jaws 2     Uni.   \n",
       "7153                             Janis: Little Girl Blue       FR   \n",
       "7139                   Jamel Shabazz Street Photographer    APD/C   \n",
       "7140                           James and the Giant Peach       BV   \n",
       "7141                James Cameron's Deepsea Challenge 3D      DLA   \n",
       "7143                                         James White      TFA   \n",
       "7145                           The Jane Austen Book Club      SPC   \n",
       "7146                                           Jane Eyre    Focus   \n",
       "7148                                    Jane Eyre (1996)    Mira.   \n",
       "7150                                      Jane's Journey     FRun   \n",
       "7151                                        Janice Beard     Emp.   \n",
       "7152                                         Janie Jones    Trib.   \n",
       "7154                                     Janky Promoters      TRR   \n",
       "7167                                                Jaws     Uni.   \n",
       "7155                                     The January Man      MGM   \n",
       "7156                                      Japanese Story      IDP   \n",
       "7157                                               Japon    Vita.   \n",
       "7158                                             Jarhead     Uni.   \n",
       "7160                          Jason Becker: Not Dead Yet       KL   \n",
       "7162                                             Jason X       NL   \n",
       "7163                                       Jason's Lyric    Gram.   \n",
       "7164                                               Jauja     CGld   \n",
       "7165                                           Java Heat      IFC   \n",
       "7166                                          Jawbreaker     Sony   \n",
       "19340                                            [Rec] 2    Magn.   \n",
       "\n",
       "       Total Gross  TTheaters     Opening OTheaters        Open  \\\n",
       "1727     128505958       2611  26,455,463       837   11/3/2006   \n",
       "14096      1109188        284     398,411       284  10/24/2008   \n",
       "14098     14486897        564   5,330,101       564  10/19/2007   \n",
       "6807         12133          4       6,100         1    1/3/2014   \n",
       "8436        768580        522         n/a       n/a   6/14/2011   \n",
       "6819        110577         15      46,975         6   10/1/2004   \n",
       "186         113966         10       7,937         1   4/19/2013   \n",
       "8438        818580        521         n/a       n/a   6/28/2011   \n",
       "14097       406085        105     143,289       105  10/23/2009   \n",
       "763        1345903         25     118,162        11   12/6/1991   \n",
       "3715      20109115       1010   8,112,884     1,010   1/12/1996   \n",
       "5049          5247          1       5,247         1   3/27/2015   \n",
       "10394         2377          1       2,377         1  10/21/2005   \n",
       "6928         10600          5         n/a       n/a  12/19/2014   \n",
       "5056       1002895         49      57,585         2   3/15/2013   \n",
       "10782      1337274        500   1,337,274       500   1/25/1985   \n",
       "3551         46979          2       7,674         1   2/25/2011   \n",
       "12515     12065892        987   3,653,142       987   4/14/1989   \n",
       "8681         95209          2      11,147         1    1/9/2009   \n",
       "14756       245127         16      25,144         6   2/25/2005   \n",
       "14709       829625         22      38,553         4  12/27/1991   \n",
       "10859       232201          5      27,492         5   6/26/1998   \n",
       "3542         12562          1      12,562         1    4/9/1999   \n",
       "7306     101704370       2830  21,018,141     2,811   7/11/2008   \n",
       "7304        127381         17      55,292        17  11/18/2015   \n",
       "10476        26966          6      14,067         6   9/27/2013   \n",
       "10477     87071205       1102   3,637,290       922  12/20/1985   \n",
       "10478      5099316       1207   2,144,764     1,207   7/25/1986   \n",
       "10479        36486         12      36,486        12  11/21/2003   \n",
       "14759        13931          4       1,881         2    5/6/2005   \n",
       "...            ...        ...         ...       ...         ...   \n",
       "7201     153952592       2531  17,084,296     2,531  12/13/1996   \n",
       "7202      47047013       2905  13,319,371     2,905   6/20/2014   \n",
       "7203      25268157       1821   8,319,171     1,520   3/26/2004   \n",
       "7171      20763013       1611   7,154,890     1,606   7/17/1987   \n",
       "7170      45517055       1311  13,422,500     1,300   7/22/1983   \n",
       "7168      77737272        640   9,866,023       640   6/16/1978   \n",
       "7153        343613         26      21,861         2  11/27/2015   \n",
       "7139         17992          2       7,105         1    8/2/2013   \n",
       "7140      28946127       2268   7,539,098     2,262   4/12/1996   \n",
       "7141        235659        304     149,879       304    8/8/2014   \n",
       "7143        101368         12      12,007         1  11/13/2015   \n",
       "7145       3575227       1232     148,549        25   9/21/2007   \n",
       "7146      11242660        319     182,885         4   3/11/2011   \n",
       "7148       5200601         35     269,929        35   4/12/1996   \n",
       "7150         27253          3       6,193         1   9/16/2011   \n",
       "7151         11816          4       4,248         3   5/10/2002   \n",
       "7152          6840          2         n/a       n/a  10/28/2011   \n",
       "7154          9069         22       5,702        22  10/16/2009   \n",
       "7167     260000000        675   7,061,513       409   6/20/1975   \n",
       "7155       4611062        883   1,716,442       876   1/13/1989   \n",
       "7156        647054         21      23,962         5  12/31/2003   \n",
       "7157         21900          1       3,562         1   3/19/2003   \n",
       "7158      62658220       2448  27,726,210     2,411   11/4/2005   \n",
       "7160          1294          2         319         2  12/12/2012   \n",
       "7162      13121555       1879   6,649,006     1,878   4/26/2002   \n",
       "7163      20851521        804   5,122,600       804   9/30/1994   \n",
       "7164         60231          3       8,314         2   3/20/2015   \n",
       "7165          1061          1         n/a         1   5/10/2013   \n",
       "7166       3117085        801   1,603,425       801   2/19/1999   \n",
       "19340        27766          7       8,191         5    7/9/2010   \n",
       "\n",
       "                                                     POS  ADJ  ADV  ADP  CONJ  \\\n",
       "1727     {u'ADJ': 1, u'PUNCT': 1, u'NOUN': 8, u'ADP': 3}    1    0    3     0   \n",
       "14096  {u'NOUN': 6, u'ADP': 3, u'DET': 1, u'PUNCT': 3...    0    0    3     0   \n",
       "14098  {u'NOUN': 8, u'ADP': 3, u'DET': 1, u'PUNCT': 3...    0    0    3     0   \n",
       "6807   {u'NOUN': 6, u'NUM': 1, u'DET': 1, u'ADP': 3, ...    0    0    3     0   \n",
       "8436   {u'NOUN': 5, u'NUM': 1, u'DET': 4, u'ADP': 3, ...    0    0    3     0   \n",
       "6819   {u'NOUN': 6, u'ADP': 3, u'DET': 1, u'PUNCT': 1...    0    0    3     1   \n",
       "186    {u'ADV': 1, u'NOUN': 5, u'ADP': 3, u'DET': 1, ...    1    1    3     0   \n",
       "8438   {u'NOUN': 5, u'NUM': 1, u'DET': 4, u'ADP': 3, ...    0    0    3     0   \n",
       "14097  {u'NOUN': 6, u'ADP': 3, u'DET': 1, u'PUNCT': 3...    0    0    3     0   \n",
       "763                   {u'DET': 2, u'NOUN': 3, u'ADP': 3}    0    0    3     0   \n",
       "3715   {u'ADV': 1, u'NOUN': 6, u'ADP': 3, u'DET': 2, ...    1    1    3     0   \n",
       "5049     {u'PUNCT': 3, u'NUM': 1, u'NOUN': 3, u'ADP': 3}    0    0    3     0   \n",
       "10394  {u'ADJ': 1, u'NOUN': 5, u'DET': 5, u'ADP': 3, ...    1    0    3     0   \n",
       "6928                  {u'NOUN': 5, u'DET': 1, u'ADP': 3}    0    0    3     0   \n",
       "5056                             {u'NOUN': 2, u'ADP': 3}    0    0    3     0   \n",
       "10782                 {u'NOUN': 5, u'DET': 2, u'ADP': 3}    0    0    3     0   \n",
       "3551   {u'DET': 1, u'NUM': 1, u'NOUN': 4, u'ADP': 2, ...    0    0    2     0   \n",
       "12515                {u'VERB': 1, u'NOUN': 2, u'ADP': 2}    0    0    2     0   \n",
       "8681    {u'PUNCT': 3, u'VERB': 1, u'NOUN': 2, u'ADP': 2}    0    0    2     0   \n",
       "14756                            {u'CONJ': 1, u'ADP': 2}    0    0    2     1   \n",
       "14709                 {u'NOUN': 2, u'DET': 2, u'ADP': 2}    0    0    2     0   \n",
       "10859   {u'PUNCT': 3, u'VERB': 1, u'NOUN': 3, u'ADP': 2}    0    0    2     0   \n",
       "3542                {u'PUNCT': 5, u'NOUN': 4, u'ADP': 2}    0    0    2     0   \n",
       "7306                  {u'DET': 2, u'NOUN': 3, u'ADP': 2}    0    0    2     0   \n",
       "7304                  {u'NOUN': 3, u'DET': 1, u'ADP': 2}    0    0    2     0   \n",
       "10476                 {u'NOUN': 1, u'DET': 1, u'ADP': 2}    0    0    2     0   \n",
       "10477                            {u'NOUN': 1, u'ADP': 2}    0    0    2     0   \n",
       "10478                            {u'NOUN': 1, u'ADP': 2}    0    0    2     0   \n",
       "10479                            {u'NOUN': 1, u'ADP': 2}    0    0    2     0   \n",
       "14759                            {u'NOUN': 1, u'ADP': 2}    0    0    2     0   \n",
       "...                                                  ...  ...  ...  ...   ...   \n",
       "7201                                        {u'NOUN': 2}    0    0    0     0   \n",
       "7202                                        {u'NOUN': 2}    0    0    0     0   \n",
       "7203                                        {u'NOUN': 2}    0    0    0     0   \n",
       "7171                {u'PUNCT': 1, u'DET': 1, u'NOUN': 3}    0    0    0     0   \n",
       "7170                             {u'ADJ': 1, u'NOUN': 1}    1    0    0     0   \n",
       "7168                             {u'NUM': 1, u'NOUN': 1}    0    0    0     0   \n",
       "7153                           {u'PUNCT': 1, u'NOUN': 4}    0    0    0     0   \n",
       "7139                                        {u'NOUN': 4}    0    0    0     0   \n",
       "7140                 {u'DET': 1, u'CONJ': 1, u'NOUN': 3}    0    0    0     1   \n",
       "7141                            {u'PART': 1, u'NOUN': 5}    0    0    0     0   \n",
       "7143                                        {u'NOUN': 2}    0    0    0     0   \n",
       "7145                             {u'NOUN': 4, u'DET': 1}    0    0    0     0   \n",
       "7146                                        {u'NOUN': 2}    0    0    0     0   \n",
       "7148                {u'PUNCT': 2, u'NUM': 1, u'NOUN': 2}    0    0    0     0   \n",
       "7150                            {u'PART': 1, u'NOUN': 2}    0    0    0     0   \n",
       "7151                                        {u'NOUN': 2}    0    0    0     0   \n",
       "7152                                        {u'NOUN': 2}    0    0    0     0   \n",
       "7154                                        {u'NOUN': 2}    0    0    0     0   \n",
       "7167                                        {u'NOUN': 1}    0    0    0     0   \n",
       "7155                             {u'NOUN': 2, u'DET': 1}    0    0    0     0   \n",
       "7156                             {u'NOUN': 1, u'ADJ': 1}    1    0    0     0   \n",
       "7157                                        {u'NOUN': 1}    0    0    0     0   \n",
       "7158                                        {u'NOUN': 1}    0    0    0     0   \n",
       "7160    {u'ADV': 2, u'PUNCT': 1, u'VERB': 1, u'NOUN': 2}    0    2    0     0   \n",
       "7162                                        {u'NOUN': 2}    0    0    0     0   \n",
       "7163                            {u'PART': 1, u'NOUN': 2}    0    0    0     0   \n",
       "7164                                        {u'NOUN': 1}    0    0    0     0   \n",
       "7165                                        {u'NOUN': 2}    0    0    0     0   \n",
       "7166                                        {u'NOUN': 1}    0    0    0     0   \n",
       "19340               {u'PUNCT': 2, u'NUM': 1, u'NOUN': 1}    0    0    0     0   \n",
       "\n",
       "       DET  NOUN  NUM  PUNCT  VERB  Total Gross Log  \n",
       "1727     0     8    0      1     0         8.108923  \n",
       "14096    1     6    1      3     0         6.045005  \n",
       "14098    1     8    1      3     0         7.160975  \n",
       "6807     1     6    1      1     0         4.083968  \n",
       "8436     4     5    1      4     0         5.885689  \n",
       "6819     1     6    0      1     0         5.043665  \n",
       "186      1     5    0      1     1         5.056775  \n",
       "8438     4     5    1      4     0         5.913061  \n",
       "14097    1     6    1      3     0         5.608617  \n",
       "763      2     3    0      0     0         6.129014  \n",
       "3715     2     6    0      0     2         7.303393  \n",
       "5049     0     3    1      3     0         3.719911  \n",
       "10394    5     5    0      1     0         3.376029  \n",
       "6928     1     5    0      0     0         4.025306  \n",
       "5056     0     2    0      0     0         6.001255  \n",
       "10782    2     5    0      0     0         6.126220  \n",
       "3551     1     4    1      3     0         4.671904  \n",
       "12515    0     2    0      0     1         7.081559  \n",
       "8681     0     2    0      3     1         4.978678  \n",
       "14756    0     0    0      0     0         5.389391  \n",
       "14709    2     2    0      0     0         5.918882  \n",
       "10859    0     3    0      3     1         5.365864  \n",
       "3542     0     4    0      5     0         4.099059  \n",
       "7306     2     3    0      0     0         8.007340  \n",
       "7304     1     3    0      0     0         5.105105  \n",
       "10476    1     1    0      0     0         4.430817  \n",
       "10477    0     1    0      0     0         7.939875  \n",
       "10478    0     1    0      0     0         6.707512  \n",
       "10479    0     1    0      0     0         4.562126  \n",
       "14759    0     1    0      0     0         4.143982  \n",
       "...    ...   ...  ...    ...   ...              ...  \n",
       "7201     0     2    0      0     0         8.187387  \n",
       "7202     0     2    0      0     0         7.672532  \n",
       "7203     0     2    0      0     0         7.402574  \n",
       "7171     1     3    0      1     0         7.317290  \n",
       "7170     0     1    0      0     0         7.658174  \n",
       "7168     0     1    1      0     0         7.890629  \n",
       "7153     0     4    0      1     0         5.536070  \n",
       "7139     0     4    0      0     0         4.255079  \n",
       "7140     1     3    0      0     0         7.461590  \n",
       "7141     0     5    0      0     0         5.372284  \n",
       "7143     0     2    0      0     0         5.005901  \n",
       "7145     1     4    0      0     0         6.553304  \n",
       "7146     0     2    0      0     0         7.050869  \n",
       "7148     0     2    1      2     0         6.716054  \n",
       "7150     0     2    0      0     0         4.435414  \n",
       "7151     0     2    0      0     0         4.072470  \n",
       "7152     0     2    0      0     0         3.835056  \n",
       "7154     0     2    0      0     0         3.957559  \n",
       "7167     0     1    0      0     0         8.414973  \n",
       "7155     1     2    0      0     0         6.663801  \n",
       "7156     0     1    0      0     0         5.810941  \n",
       "7157     0     1    0      0     0         4.340444  \n",
       "7158     0     1    0      0     0         7.796978  \n",
       "7160     0     2    0      1     1         3.111934  \n",
       "7162     0     2    0      0     0         7.117985  \n",
       "7163     0     2    0      0     0         7.319138  \n",
       "7164     0     1    0      0     0         4.779820  \n",
       "7165     0     2    0      0     0         3.025715  \n",
       "7166     0     1    0      0     0         6.493749  \n",
       "19340    0     1    1      2     0         4.443513  \n",
       "\n",
       "[15628 rows x 18 columns]"
      ]
     },
     "execution_count": 13,
     "metadata": {},
     "output_type": "execute_result"
    }
   ],
   "source": [
    "movies.sort('ADP',ascending=False)"
   ]
  },
  {
   "cell_type": "markdown",
   "metadata": {},
   "source": [
    "# Regression"
   ]
  },
  {
   "cell_type": "code",
   "execution_count": 14,
   "metadata": {
    "collapsed": false
   },
   "outputs": [],
   "source": [
    "def fit(x,y):\n",
    "    rgr = LinearRegression()\n",
    "    rgr.fit(x.values, y)\n",
    "    return rgr\n",
    "\n",
    "def score(rgr, X_test, y_test):\n",
    "    return np.mean((rgr.predict(X_test) - y_test)**2)\n",
    "\n",
    "def plot_stuff(model,feature,indx):\n",
    "    b = model.intercept_\n",
    "    m = model.coef_\n",
    "    x = range(10)\n",
    "    plt.scatter(X_test[feature],model.predict(X_test),alpha=.05)\n",
    "    plt.scatter(X_test[feature],y_test,alpha=.01, color='red')\n",
    "    plt.plot(x,map(lambda a: m[indx]*a+b,x))\n",
    "    plt.xlabel(feature)\n",
    "    \n",
    "def plot_movies(features,model,X_test,y_test):\n",
    "    '''\n",
    "    features - list of features\n",
    "    model - regression object\n",
    "    X_test - x values\n",
    "    Y_test - y_values\n",
    "    '''\n",
    "    fig, axes = plt.subplots(len(features),1,figsize=(7,20))\n",
    "    plt.subplots_adjust(hspace=.5)\n",
    "    for feature in features:\n",
    "        b = model.intercept_\n",
    "        m = model.coef_\n",
    "        #x = range(int(max(X_test[feature])))\n",
    "        x=np.linspace(min(X_test[feature]),max(X_test[feature]),40)\n",
    "        axes[features.index(feature)].scatter(X_test[feature],model.predict(X_test),alpha=.05,label='Predicted')\n",
    "        axes[features.index(feature)].scatter(X_test[feature],y_test,alpha=.01, color='red',label='Actual')\n",
    "        axes[features.index(feature)].plot(x,map(lambda a: m[features.index(feature)]*a+b,x))\n",
    "        axes[features.index(feature)].set_xlabel(\"{f} Beta: {b}\".format(f=feature,b=m[features.index(feature)]))\n",
    "        axes[features.index(feature)].set_ylabel('Log of Total Gross')\n",
    "        axes[features.index(feature)].set_title(feature + ' vs. Log of Total Gross')\n",
    "        axes[features.index(feature)].legend(loc='best')"
   ]
  },
  {
   "cell_type": "code",
   "execution_count": 15,
   "metadata": {
    "collapsed": false
   },
   "outputs": [],
   "source": [
    "def fit_ridge(x,y,alph):\n",
    "    ridge = Ridge(alpha = alph)\n",
    "    ridge.fit(x.values,y)\n",
    "    return ridge\n",
    "\n",
    "def test_ridge(x,y,alph,runs):\n",
    "    '''\n",
    "    x - independent data set\n",
    "    y - dependent data 1-d\n",
    "    alph - ridge regression lambda\n",
    "    runs - number of attempts\n",
    "    '''\n",
    "    scores = []\n",
    "    for _ in range(runs):\n",
    "        #Split Data\n",
    "        X_train, X_test, y_train, y_test = train_test_split(x, y, test_size=0.33)\n",
    "        \n",
    "        #Normalize Data\n",
    "        avg = X_train.mean()\n",
    "        big = X_train.max()\n",
    "        small = X_train.min()\n",
    "        X_train = (X_train - avg)/(big - small)\n",
    "        X_test = (X_test - avg)/(big - small)\n",
    "        \n",
    "        rgr = fit_ridge(X_train,y_train,1)\n",
    "        scores.append((score(rgr,X_train,y_train),score(rgr,X_test,y_test),score(rgr,X_test,y_test)-score(rgr,X_train,y_train)))\n",
    "    return [np.mean(x) for x in zip(*scores)]"
   ]
  },
  {
   "cell_type": "code",
   "execution_count": 16,
   "metadata": {
    "collapsed": false
   },
   "outputs": [],
   "source": [
    "y = movies['Total Gross Log']\n",
    "x = movies[TAGS]"
   ]
  },
  {
   "cell_type": "code",
   "execution_count": 17,
   "metadata": {
    "collapsed": false,
    "scrolled": true
   },
   "outputs": [
    {
     "data": {
      "text/plain": [
       "<seaborn.axisgrid.PairGrid at 0x7fd7fbe454d0>"
      ]
     },
     "execution_count": 17,
     "metadata": {},
     "output_type": "execute_result"
    },
    {
     "data": {
      "image/png": "[encoded data removed]",
      "text/plain": [
       "<matplotlib.figure.Figure at 0x7fd7fbe3d7d0>"
      ]
     },
     "metadata": {},
     "output_type": "display_data"
    }
   ],
   "source": [
    "sns.pairplot(movies, x_vars = TAGS,y_vars=['Total Gross'])"
   ]
  },
  {
   "cell_type": "code",
   "execution_count": 18,
   "metadata": {
    "collapsed": false
   },
   "outputs": [
    {
     "data": {
      "text/plain": [
       "<seaborn.axisgrid.PairGrid at 0x7fd7fbe39090>"
      ]
     },
     "execution_count": 18,
     "metadata": {},
     "output_type": "execute_result"
    },
    {
     "data": {
      "image/png": "[encoded data removed]",
      "text/plain": [
       "<matplotlib.figure.Figure at 0x7fd7f59cec10>"
      ]
     },
     "metadata": {},
     "output_type": "display_data"
    }
   ],
   "source": [
    "sns.pairplot(movies, x_vars = TAGS,y_vars=['Total Gross Log'])"
   ]
  },
  {
   "cell_type": "markdown",
   "metadata": {},
   "source": [
    "# BINNING THE NUMBER OF THEATERS THE MOVIE IS RELEASED IN\n",
    "# I USED THIS ONE"
   ]
  },
  {
   "cell_type": "code",
   "execution_count": 19,
   "metadata": {
    "collapsed": true
   },
   "outputs": [],
   "source": [
    "from sklearn.preprocessing import PolynomialFeatures, normalize"
   ]
  },
  {
   "cell_type": "code",
   "execution_count": 20,
   "metadata": {
    "collapsed": true
   },
   "outputs": [],
   "source": [
    "#Create Dummies\n",
    "movies['Wide Release']=0\n",
    "movies['Wide Release'][movies['TTheaters']>1000]=1\n",
    "movies['Mid Release']=0\n",
    "movies['Mid Release'][(movies['TTheaters']<=1000) & (movies['TTheaters']>20)] = 1\n",
    "movies['Low Release']=0\n",
    "movies['Low Release'][movies['TTheaters']<=20] = 1"
   ]
  },
  {
   "cell_type": "code",
   "execution_count": 21,
   "metadata": {
    "collapsed": false
   },
   "outputs": [],
   "source": [
    "#Checking my bins\n",
    "garb = movies\n",
    "garb['GRAPH'] = garb['Wide Release']*3\n",
    "garb['GRAPH'] = garb['GRAPH']+ garb['Mid Release'] *2\n",
    "garb['GRAPH'] = garb['GRAPH']+ garb['Low Release']"
   ]
  },
  {
   "cell_type": "code",
   "execution_count": 22,
   "metadata": {
    "collapsed": false
   },
   "outputs": [
    {
     "data": {
      "text/plain": [
       "<seaborn.axisgrid.JointGrid at 0x7fd7f5439c50>"
      ]
     },
     "execution_count": 22,
     "metadata": {},
     "output_type": "execute_result"
    },
    {
     "data": {
      "image/png": "[encoded data removed]",
      "text/plain": [
       "<matplotlib.figure.Figure at 0x7fd841032f90>"
      ]
     },
     "metadata": {},
     "output_type": "display_data"
    }
   ],
   "source": [
    "ax = sns.jointplot(garb['GRAPH'], garb['Total Gross Log'],stat_func=None, kind='reg', color=\"seagreen\")\n",
    "ax.set_axis_labels('Theater Bin','Total Gross Log')"
   ]
  },
  {
   "cell_type": "code",
   "execution_count": 23,
   "metadata": {
    "collapsed": false
   },
   "outputs": [],
   "source": [
    "#Set up X and Y, avoid Dummy Trap\n",
    "y = movies['Total Gross Log']\n",
    "NEW_TAGS = TAGS+['Wide Release','Mid Release']\n",
    "x_pre = movies[NEW_TAGS]\n",
    "poly = PolynomialFeatures(degree=2,interaction_only=True)\n",
    "x = normalize(poly.fit_transform(x_pre).astype(np.float))"
   ]
  },
  {
   "cell_type": "code",
   "execution_count": 24,
   "metadata": {
    "collapsed": true
   },
   "outputs": [],
   "source": [
    "def fit_poly(x,y,alph):\n",
    "    ridge = Ridge(alpha = alph)\n",
    "    ridge.fit(x,y)\n",
    "    return ridge"
   ]
  },
  {
   "cell_type": "code",
   "execution_count": 25,
   "metadata": {
    "collapsed": true
   },
   "outputs": [],
   "source": [
    "def test_poly(x,y,alph,runs):\n",
    "    '''\n",
    "    x - independent data set\n",
    "    y - dependent data 1-d\n",
    "    alph - ridge regression lambda\n",
    "    runs - number of attempts\n",
    "    '''\n",
    "    scores = []\n",
    "    for _ in range(runs):\n",
    "        #Split Data\n",
    "        X_train, X_test, y_train, y_test = train_test_split(x, y, test_size=0.33)\n",
    "        \n",
    "#         #Normalize Data\n",
    "#         avg = X_train.mean()\n",
    "#         big = X_train.max()\n",
    "#         small = X_train.min()\n",
    "#         X_train = (X_train - avg)/(big - small)\n",
    "#         X_test = (X_test - avg)/(big - small)\n",
    "        \n",
    "        rgr = fit_poly(X_train,y_train,1)\n",
    "        scores.append(score(rgr,X_test,y_test))\n",
    "    return np.mean(scores)"
   ]
  },
  {
   "cell_type": "code",
   "execution_count": 26,
   "metadata": {
    "collapsed": false
   },
   "outputs": [],
   "source": [
    "a= [test_poly(x,y,runs,20) for runs in np.linspace(0,50,50)]"
   ]
  },
  {
   "cell_type": "code",
   "execution_count": 27,
   "metadata": {
    "collapsed": false,
    "scrolled": true
   },
   "outputs": [
    {
     "data": {
      "text/plain": [
       "[<matplotlib.lines.Line2D at 0x7fd7f5074b50>]"
      ]
     },
     "execution_count": 27,
     "metadata": {},
     "output_type": "execute_result"
    },
    {
     "data": {
      "image/png": "[encoded data removed]",
      "text/plain": [
       "<matplotlib.figure.Figure at 0x7fd7f54b8a90>"
      ]
     },
     "metadata": {},
     "output_type": "display_data"
    }
   ],
   "source": [
    "plt.plot(np.linspace(0,50,50),a)"
   ]
  },
  {
   "cell_type": "code",
   "execution_count": 28,
   "metadata": {
    "collapsed": false
   },
   "outputs": [
    {
     "data": {
      "text/plain": [
       "0.77652757307680587"
      ]
     },
     "execution_count": 28,
     "metadata": {},
     "output_type": "execute_result"
    }
   ],
   "source": [
    "#Minimum Lambda Near 10\n",
    "rgr = fit_poly(x,y,10)\n",
    "rgr.score(x,y)"
   ]
  },
  {
   "cell_type": "code",
   "execution_count": 29,
   "metadata": {
    "collapsed": true
   },
   "outputs": [],
   "source": [
    "residuals = rgr.predict(x)-y"
   ]
  },
  {
   "cell_type": "code",
   "execution_count": 30,
   "metadata": {
    "collapsed": false
   },
   "outputs": [
    {
     "data": {
      "text/plain": [
       "((array([-3.91957884, -3.70033666, -3.58023444, ...,  3.58023444,\n",
       "          3.70033666,  3.91957884]),\n",
       "  array([-2.73647669, -2.54724565, -2.46232472, ...,  2.76212665,\n",
       "          2.94134367,  3.24269233])),\n",
       " (0.66173841880843209, 3.439498434820507e-14, 0.99905917769308117))"
      ]
     },
     "execution_count": 30,
     "metadata": {},
     "output_type": "execute_result"
    },
    {
     "data": {
      "image/png": "[encoded data removed]",
      "text/plain": [
       "<matplotlib.figure.Figure at 0x7fd7f5412150>"
      ]
     },
     "metadata": {},
     "output_type": "display_data"
    }
   ],
   "source": [
    "stats.probplot(residuals, dist=\"norm\", plot=pylab)"
   ]
  },
  {
   "cell_type": "code",
   "execution_count": 31,
   "metadata": {
    "collapsed": false
   },
   "outputs": [],
   "source": [
    "from sklearn import feature_selection"
   ]
  },
  {
   "cell_type": "code",
   "execution_count": 32,
   "metadata": {
    "collapsed": false
   },
   "outputs": [],
   "source": [
    "y = y.astype(np.float)"
   ]
  },
  {
   "cell_type": "code",
   "execution_count": 33,
   "metadata": {
    "collapsed": false,
    "scrolled": false
   },
   "outputs": [],
   "source": [
    "ga,pvals = feature_selection.f_regression(x,y)"
   ]
  },
  {
   "cell_type": "code",
   "execution_count": 34,
   "metadata": {
    "collapsed": false
   },
   "outputs": [],
   "source": [
    "import itertools"
   ]
  },
  {
   "cell_type": "code",
   "execution_count": 35,
   "metadata": {
    "collapsed": false,
    "scrolled": true
   },
   "outputs": [],
   "source": [
    "all_tags = list(itertools.product(NEW_TAGS,NEW_TAGS))\n",
    "all_tags = [(a,b) for (a,b) in all_tags if a!=b]\n",
    "all_tags = ['1']+NEW_TAGS+list(itertools.combinations(NEW_TAGS,2))"
   ]
  },
  {
   "cell_type": "code",
   "execution_count": 36,
   "metadata": {
    "collapsed": false
   },
   "outputs": [
    {
     "name": "stdout",
     "output_type": "stream",
     "text": [
      "67 67\n"
     ]
    }
   ],
   "source": [
    "print len(rgr.coef_),len(all_tags)"
   ]
  },
  {
   "cell_type": "markdown",
   "metadata": {},
   "source": [
    "# Massaging the Betas"
   ]
  },
  {
   "cell_type": "code",
   "execution_count": 37,
   "metadata": {
    "collapsed": false,
    "scrolled": true
   },
   "outputs": [],
   "source": [
    "betas = zip(rgr.coef_,all_tags)"
   ]
  },
  {
   "cell_type": "code",
   "execution_count": 38,
   "metadata": {
    "collapsed": false,
    "scrolled": true
   },
   "outputs": [
    {
     "data": {
      "text/plain": [
       "[(3.6005473713736806e-148, (-0.97502837479595594, '1')),\n",
       " (0.00010848226764624948, (-0.66273036345335201, 'ADJ')),\n",
       " (3.1089984526875245e-27, (-0.63531099142837599, 'ADP')),\n",
       " (0.042655043850018066, (-0.089653180977478139, 'CONJ')),\n",
       " (0.046128562653204593, (-0.8351083683439896, 'DET')),\n",
       " (1.3700041935248095e-160, (-1.204202116068281, 'NOUN')),\n",
       " (2.6142743217680544e-06, (-0.87580534841297075, 'NUM')),\n",
       " (3.9282921572918907e-11, (-1.0960094350948133, 'PUNCT')),\n",
       " (1.1733163226612268e-12, (-0.82935744373236087, 'VERB')),\n",
       " (0.0, (2.2206511466261163, 'Wide Release')),\n",
       " (3.6305635508262494e-18, (1.1854328711736604, 'Mid Release')),\n",
       " (3.0183752845524985e-08, (-0.22357671375423904, ('ADJ', 'ADP'))),\n",
       " (0.0049873578408754825, (-0.38409566285148811, ('ADJ', 'DET'))),\n",
       " (4.4148209469122249e-06, (-0.039627043942483911, ('ADJ', 'NOUN'))),\n",
       " (0.027929998303666444, (0.36003058062363991, ('ADJ', 'NUM'))),\n",
       " (0.02391582207025501, (-0.20914950687191614, ('ADJ', 'PUNCT'))),\n",
       " (0.0005514552225880725, (-0.068301157936831863, ('ADJ', 'VERB'))),\n",
       " (5.9642140345386355e-150, (1.7251905813557202, ('ADJ', 'Wide Release'))),\n",
       " (0.0049515230034805702, (0.8042174538443051, ('ADJ', 'Mid Release'))),\n",
       " (4.0791367363536518e-09, (0.057308947064807339, ('ADV', 'NUM'))),\n",
       " (0.016049411258758334, (-0.2197930462493109, ('ADV', 'PUNCT'))),\n",
       " (4.6681228363430209e-68, (1.1310441299673593, ('ADV', 'Wide Release'))),\n",
       " (1.7684929557992887e-07, (0.11432955788818859, ('ADP', 'DET'))),\n",
       " (8.2357823503633776e-27, (-0.23032432378319695, ('ADP', 'NOUN'))),\n",
       " (1.2100683965569978e-05, (-0.060923480636914711, ('ADP', 'NUM'))),\n",
       " (5.0131027067846132e-06, (-0.0048242736522121129, ('ADP', 'PUNCT'))),\n",
       " (7.6445305100004821e-09, (-0.23651079940636491, ('ADP', 'VERB'))),\n",
       " (1.1428896405100791e-216, (1.9091736065471832, ('ADP', 'Wide Release'))),\n",
       " (5.2873786687412248e-05, (1.0887530454243999, ('ADP', 'Mid Release'))),\n",
       " (0.021624455094519907, (-0.13075328534300529, ('CONJ', 'NOUN'))),\n",
       " (0.0067775241680963624, (0.20004243278165493, ('CONJ', 'NUM'))),\n",
       " (2.3546523138794171e-57, (0.90262110466404555, ('CONJ', 'Wide Release'))),\n",
       " (0.04983539231915006, (0.34109443462723693, ('CONJ', 'Mid Release'))),\n",
       " (0.0053017088169540214, (0.16215829586818831, ('DET', 'NUM'))),\n",
       " (0.00038360986318080513, (-0.035507061557535892, ('DET', 'VERB'))),\n",
       " (0.0, (1.9337023800078144, ('DET', 'Wide Release'))),\n",
       " (1.202776623513349e-07, (1.1048814995990313, ('DET', 'Mid Release'))),\n",
       " (3.1236795058079043e-09, (-0.15279960259268507, ('NOUN', 'NUM'))),\n",
       " (1.2543516163442033e-06, (-0.013547195570707105, ('NOUN', 'PUNCT'))),\n",
       " (1.231125403853928e-14, (-0.19861501213093449, ('NOUN', 'VERB'))),\n",
       " (0.0, (3.1911098138357521, ('NOUN', 'Wide Release'))),\n",
       " (1.4530703609814123e-15, (1.3936911948762667, ('NOUN', 'Mid Release'))),\n",
       " (0.00060350346452326938, (-0.041112158296253851, ('NUM', 'PUNCT'))),\n",
       " (0.0, (2.6042406883627578, ('NUM', 'Wide Release'))),\n",
       " (0.0238914510669412, (0.89255819308666839, ('NUM', 'Mid Release'))),\n",
       " (0.0040033247418610638, (-0.063031656769394512, ('PUNCT', 'VERB'))),\n",
       " (3.5235390969675221e-187, (2.6836963555163051, ('PUNCT', 'Wide Release'))),\n",
       " (9.5995832985601749e-151, (2.0298968316814627, ('VERB', 'Wide Release'))),\n",
       " (0.0001350276717740573, (1.2035838170933184, ('VERB', 'Mid Release')))]"
      ]
     },
     "execution_count": 38,
     "metadata": {},
     "output_type": "execute_result"
    }
   ],
   "source": [
    "#F-Test\n",
    "[(i,j) for i,j in zip(pvals,betas) if i < .05]"
   ]
  },
  {
   "cell_type": "code",
   "execution_count": 39,
   "metadata": {
    "collapsed": false
   },
   "outputs": [],
   "source": [
    "def beta_filter(bs,label):\n",
    "    filtered = []\n",
    "    for b in bs:\n",
    "        if (b[1] == label):\n",
    "            filtered.append(b)\n",
    "        else:\n",
    "            try:\n",
    "                if (b[1][0] == label) or (b[1][1] == label):\n",
    "                    filtered.append(b)\n",
    "            except:\n",
    "                pass\n",
    "    return filtered\n",
    "\n",
    "def plot_bees(b,title):\n",
    "#     b = sorted(b)\n",
    "    b_x, tags = zip(*b)\n",
    "    b_x,b_y =zip(*enumerate(b_x))\n",
    "    ax = sns.barplot(b_x,b_y,order=b_x,palette='muted')\n",
    "    ax.set_title(title)\n",
    "    ax.set_xticks([])\n",
    "    \n",
    "def merge_label(BHH):\n",
    "    AHH = []\n",
    "    for j in BHH:\n",
    "        if type(j[1]) == tuple:\n",
    "            AHH.append((j[0],j[1][0]))\n",
    "        else:\n",
    "            AHH.append(j)\n",
    "    return AHH"
   ]
  },
  {
   "cell_type": "markdown",
   "metadata": {},
   "source": [
    "# Graphs and Tables showing certain Betas"
   ]
  },
  {
   "cell_type": "code",
   "execution_count": 40,
   "metadata": {
    "collapsed": false
   },
   "outputs": [],
   "source": [
    "g_x = all_tags[:11]+[x[0]+x[1] for x in all_tags[11:]]"
   ]
  },
  {
   "cell_type": "code",
   "execution_count": 41,
   "metadata": {
    "collapsed": false,
    "scrolled": true
   },
   "outputs": [
    {
     "data": {
      "text/plain": [
       "<matplotlib.text.Text at 0x7fd7eced6050>"
      ]
     },
     "execution_count": 41,
     "metadata": {},
     "output_type": "execute_result"
    },
    {
     "data": {
      "image/png": "[encoded data removed]",
      "text/plain": [
       "<matplotlib.figure.Figure at 0x7fd7ecf17dd0>"
      ]
     },
     "metadata": {},
     "output_type": "display_data"
    }
   ],
   "source": [
    "# g_x, g_y = zip(*enumerate(rgr.coef_))\n",
    "g = sns.barplot(x=g_x,y=rgr.coef_,order=g_x,palette='muted')\n",
    "g.set_xticks([])\n",
    "g.set_title('Betas')\n"
   ]
  },
  {
   "cell_type": "code",
   "execution_count": 42,
   "metadata": {
    "collapsed": false,
    "scrolled": true
   },
   "outputs": [],
   "source": [
    "gfx_w = merge_label(beta_filter(betas,'Wide Release'))[:-1]"
   ]
  },
  {
   "cell_type": "code",
   "execution_count": 43,
   "metadata": {
    "collapsed": false,
    "scrolled": true
   },
   "outputs": [],
   "source": [
    "gfx_m = merge_label(beta_filter(betas,'Mid Release'))[:-1]"
   ]
  },
  {
   "cell_type": "code",
   "execution_count": 44,
   "metadata": {
    "collapsed": false
   },
   "outputs": [
    {
     "data": {
      "image/png": "[encoded data removed]",
      "text/plain": [
       "<matplotlib.figure.Figure at 0x7fd7ecf17e90>"
      ]
     },
     "metadata": {},
     "output_type": "display_data"
    }
   ],
   "source": [
    "plot_bees(merge_label(beta_filter(betas,'DET'))[:-2],'Noun')"
   ]
  },
  {
   "cell_type": "code",
   "execution_count": 45,
   "metadata": {
    "collapsed": false
   },
   "outputs": [
    {
     "data": {
      "image/png": "[encoded data removed]",
      "text/plain": [
       "<matplotlib.figure.Figure at 0x7fd7f4f8e750>"
      ]
     },
     "metadata": {},
     "output_type": "display_data"
    }
   ],
   "source": [
    "plot_bees(gfx_m,'Mid Release')"
   ]
  },
  {
   "cell_type": "code",
   "execution_count": 46,
   "metadata": {
    "collapsed": false,
    "scrolled": true
   },
   "outputs": [],
   "source": [
    "w,_ = zip(*beta_filter(betas,'Wide Release')[1:10])"
   ]
  },
  {
   "cell_type": "code",
   "execution_count": 47,
   "metadata": {
    "collapsed": false,
    "scrolled": false
   },
   "outputs": [],
   "source": [
    "m,_ = zip(*beta_filter(betas,'Mid Release')[1:10])"
   ]
  },
  {
   "cell_type": "code",
   "execution_count": 48,
   "metadata": {
    "collapsed": false,
    "scrolled": true
   },
   "outputs": [],
   "source": [
    "s,_ = zip(*betas[1:10])"
   ]
  },
  {
   "cell_type": "code",
   "execution_count": 49,
   "metadata": {
    "collapsed": false
   },
   "outputs": [],
   "source": [
    "gfx_tag =[j for i,j in betas[1:10]]"
   ]
  },
  {
   "cell_type": "code",
   "execution_count": 50,
   "metadata": {
    "collapsed": false
   },
   "outputs": [
    {
     "data": {
      "text/plain": [
       "['ADJ', 'ADV', 'ADP', 'CONJ', 'DET', 'NOUN', 'NUM', 'PUNCT', 'VERB']"
      ]
     },
     "execution_count": 50,
     "metadata": {},
     "output_type": "execute_result"
    }
   ],
   "source": [
    "gfx_tag"
   ]
  },
  {
   "cell_type": "code",
   "execution_count": 51,
   "metadata": {
    "collapsed": false
   },
   "outputs": [],
   "source": [
    "ws = [i+j for i,j in zip(w,s)]"
   ]
  },
  {
   "cell_type": "code",
   "execution_count": 52,
   "metadata": {
    "collapsed": false
   },
   "outputs": [],
   "source": [
    "ms = [i+j for i,j in zip(m,s)]"
   ]
  },
  {
   "cell_type": "code",
   "execution_count": 53,
   "metadata": {
    "collapsed": false
   },
   "outputs": [
    {
     "data": {
      "text/plain": [
       "<matplotlib.text.Text at 0x7fd7ec8df790>"
      ]
     },
     "execution_count": 53,
     "metadata": {},
     "output_type": "execute_result"
    },
    {
     "data": {
      "image/png": "[encoded data removed]",
      "text/plain": [
       "<matplotlib.figure.Figure at 0x7fd7ec938550>"
      ]
     },
     "metadata": {},
     "output_type": "display_data"
    }
   ],
   "source": [
    "gfx = sns.barplot(gfx_tag,s,order=gfx_tag,palette='muted')\n",
    "gfx.set_title('Low')"
   ]
  },
  {
   "cell_type": "code",
   "execution_count": 54,
   "metadata": {
    "collapsed": false,
    "scrolled": true
   },
   "outputs": [
    {
     "data": {
      "text/plain": [
       "<matplotlib.text.Text at 0x7fd7ec7a0090>"
      ]
     },
     "execution_count": 54,
     "metadata": {},
     "output_type": "execute_result"
    },
    {
     "data": {
      "image/png": "[encoded data removed]",
      "text/plain": [
       "<matplotlib.figure.Figure at 0x7fd7ec8c0a50>"
      ]
     },
     "metadata": {},
     "output_type": "display_data"
    }
   ],
   "source": [
    "gfx = sns.barplot(gfx_tag,ms,order=gfx_tag,palette='muted')\n",
    "gfx.set_title('Mid - Low')"
   ]
  },
  {
   "cell_type": "code",
   "execution_count": 55,
   "metadata": {
    "collapsed": false
   },
   "outputs": [
    {
     "data": {
      "text/plain": [
       "<matplotlib.text.Text at 0x7fd7ec6bb3d0>"
      ]
     },
     "execution_count": 55,
     "metadata": {},
     "output_type": "execute_result"
    },
    {
     "data": {
      "image/png": "[encoded data removed]",
      "text/plain": [
       "<matplotlib.figure.Figure at 0x7fd7ec6ddb10>"
      ]
     },
     "metadata": {},
     "output_type": "display_data"
    }
   ],
   "source": [
    "gfx = sns.barplot(gfx_tag,ws,order=gfx_tag,palette='muted')\n",
    "gfx.set_title('Wide - Low')"
   ]
  },
  {
   "cell_type": "code",
   "execution_count": 56,
   "metadata": {
    "collapsed": false
   },
   "outputs": [],
   "source": [
    "best_b = [(i,j) for i,j in betas if (i > .7) or (i <-1) ]"
   ]
  },
  {
   "cell_type": "code",
   "execution_count": 57,
   "metadata": {
    "collapsed": false
   },
   "outputs": [
    {
     "data": {
      "text/plain": [
       "[(-0.22357671375423904, ('ADJ', 'ADP')),\n",
       " (0.14096035520831429, ('ADV', 'ADP')),\n",
       " (0.0062269450990563371, ('ADJ', 'ADV')),\n",
       " (-0.052400615955241231, ('ADJ', 'CONJ')),\n",
       " (-0.11424621924786967, ('ADV', 'CONJ')),\n",
       " (-0.047327137208784287, ('ADP', 'CONJ')),\n",
       " (-0.38409566285148811, ('ADJ', 'DET')),\n",
       " (-0.020352827552123722, ('ADV', 'DET')),\n",
       " (0.11432955788818859, ('ADP', 'DET')),\n",
       " (0.028700844963830151, ('CONJ', 'DET')),\n",
       " (0.8042174538443051, ('ADJ', 'Mid Release')),\n",
       " (0.48941650516120772, ('ADV', 'Mid Release')),\n",
       " (1.0887530454243999, ('ADP', 'Mid Release')),\n",
       " (0.34109443462723693, ('CONJ', 'Mid Release')),\n",
       " (1.1048814995990313, ('DET', 'Mid Release')),\n",
       " (1.3936911948762667, ('NOUN', 'Mid Release')),\n",
       " (0.89255819308666839, ('NUM', 'Mid Release')),\n",
       " (1.0653278461368221, ('PUNCT', 'Mid Release')),\n",
       " (1.2035838170933184, ('VERB', 'Mid Release')),\n",
       " (0.0, ('Wide Release', 'Mid Release')),\n",
       " (-0.039627043942483911, ('ADJ', 'NOUN')),\n",
       " (-0.11770526373474764, ('ADV', 'NOUN')),\n",
       " (-0.23032432378319695, ('ADP', 'NOUN')),\n",
       " (-0.13075328534300529, ('CONJ', 'NOUN')),\n",
       " (0.0023676992019080732, ('DET', 'NOUN')),\n",
       " (0.36003058062363991, ('ADJ', 'NUM')),\n",
       " (0.057308947064807339, ('ADV', 'NUM')),\n",
       " (-0.060923480636914711, ('ADP', 'NUM')),\n",
       " (0.20004243278165493, ('CONJ', 'NUM')),\n",
       " (0.16215829586818831, ('DET', 'NUM')),\n",
       " (-0.15279960259268507, ('NOUN', 'NUM')),\n",
       " (-0.20914950687191614, ('ADJ', 'PUNCT')),\n",
       " (-0.2197930462493109, ('ADV', 'PUNCT')),\n",
       " (-0.0048242736522121129, ('ADP', 'PUNCT')),\n",
       " (-0.054255122536180117, ('CONJ', 'PUNCT')),\n",
       " (0.0013423059268896009, ('DET', 'PUNCT')),\n",
       " (-0.013547195570707105, ('NOUN', 'PUNCT')),\n",
       " (-0.041112158296253851, ('NUM', 'PUNCT')),\n",
       " (-0.068301157936831863, ('ADJ', 'VERB')),\n",
       " (-0.18333010606752539, ('ADV', 'VERB')),\n",
       " (-0.23651079940636491, ('ADP', 'VERB')),\n",
       " (0.067170250059237352, ('CONJ', 'VERB')),\n",
       " (-0.035507061557535892, ('DET', 'VERB')),\n",
       " (-0.19861501213093449, ('NOUN', 'VERB')),\n",
       " (0.092905550231993053, ('NUM', 'VERB')),\n",
       " (-0.063031656769394512, ('PUNCT', 'VERB')),\n",
       " (1.7251905813557202, ('ADJ', 'Wide Release')),\n",
       " (1.1310441299673593, ('ADV', 'Wide Release')),\n",
       " (1.9091736065471832, ('ADP', 'Wide Release')),\n",
       " (0.90262110466404555, ('CONJ', 'Wide Release')),\n",
       " (1.9337023800078144, ('DET', 'Wide Release')),\n",
       " (3.1911098138357521, ('NOUN', 'Wide Release')),\n",
       " (2.6042406883627578, ('NUM', 'Wide Release')),\n",
       " (2.6836963555163051, ('PUNCT', 'Wide Release')),\n",
       " (2.0298968316814627, ('VERB', 'Wide Release')),\n",
       " (1.1854328711736604, 'Mid Release')]"
      ]
     },
     "execution_count": 57,
     "metadata": {},
     "output_type": "execute_result"
    }
   ],
   "source": [
    "sorted(betas[11:], key = lambda x: x[1][1])"
   ]
  },
  {
   "cell_type": "code",
   "execution_count": 58,
   "metadata": {
    "collapsed": false
   },
   "outputs": [
    {
     "data": {
      "text/plain": [
       "[(-1.204202116068281, 'NOUN'),\n",
       " (-1.0960094350948133, 'PUNCT'),\n",
       " (2.2206511466261163, 'Wide Release'),\n",
       " (1.1854328711736604, 'Mid Release'),\n",
       " (1.7251905813557202, ('ADJ', 'Wide Release')),\n",
       " (0.8042174538443051, ('ADJ', 'Mid Release')),\n",
       " (1.1310441299673593, ('ADV', 'Wide Release')),\n",
       " (1.9091736065471832, ('ADP', 'Wide Release')),\n",
       " (1.0887530454243999, ('ADP', 'Mid Release')),\n",
       " (0.90262110466404555, ('CONJ', 'Wide Release')),\n",
       " (1.9337023800078144, ('DET', 'Wide Release')),\n",
       " (1.1048814995990313, ('DET', 'Mid Release')),\n",
       " (3.1911098138357521, ('NOUN', 'Wide Release')),\n",
       " (1.3936911948762667, ('NOUN', 'Mid Release')),\n",
       " (2.6042406883627578, ('NUM', 'Wide Release')),\n",
       " (0.89255819308666839, ('NUM', 'Mid Release')),\n",
       " (2.6836963555163051, ('PUNCT', 'Wide Release')),\n",
       " (1.0653278461368221, ('PUNCT', 'Mid Release')),\n",
       " (2.0298968316814627, ('VERB', 'Wide Release')),\n",
       " (1.2035838170933184, ('VERB', 'Mid Release'))]"
      ]
     },
     "execution_count": 58,
     "metadata": {},
     "output_type": "execute_result"
    }
   ],
   "source": [
    "best_b"
   ]
  }
 ],
 "metadata": {
  "kernelspec": {
   "display_name": "Python 2",
   "language": "python",
   "name": "python2"
  },
  "language_info": {
   "codemirror_mode": {
    "name": "ipython",
    "version": 2
   },
   "file_extension": ".py",
   "mimetype": "text/x-python",
   "name": "python",
   "nbconvert_exporter": "python",
   "pygments_lexer": "ipython2",
   "version": "2.7.11"
  }
 },
 "nbformat": 4,
 "nbformat_minor": 0
}
