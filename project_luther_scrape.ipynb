{
 "cells": [
  {
   "cell_type": "code",
   "execution_count": 1,
   "metadata": {
    "collapsed": true
   },
   "outputs": [],
   "source": [
    "import requests\n",
    "import string\n",
    "import csv\n",
    "\n",
    "from bs4 import BeautifulSoup as BS"
   ]
  },
  {
   "cell_type": "code",
   "execution_count": 2,
   "metadata": {
    "collapsed": false
   },
   "outputs": [],
   "source": [
    "### CONSTANTS\n",
    "UPPER = list(string.uppercase[:])\n",
    "UPPER.append('NUM')"
   ]
  },
  {
   "cell_type": "code",
   "execution_count": 3,
   "metadata": {
    "collapsed": false
   },
   "outputs": [],
   "source": [
    "def url_to_soup(url):\n",
    "    return BS(requests.get(url).text, 'lxml')\n",
    "\n",
    "def soup_to_array(soup):\n",
    "    '''\n",
    "    Takes a soup from\n",
    "    '''\n",
    "    movie_array = []\n",
    "    for row in soup.find_all('table')[0].find_all('tr')[5:]:\n",
    "        movie = []\n",
    "        for word in row:\n",
    "            if word.text != 'ALPHABETICAL INDEX':\n",
    "                movie.append(word.text.encode('utf-8').strip('$ '))\n",
    "        if movie:\n",
    "            movie_array.append(movie)\n",
    "    \n",
    "    #check to see if page has movies\n",
    "    if movie_array:\n",
    "        return movie_array\n",
    "    else:\n",
    "        return False\n",
    "    \n",
    "def page_to_csv(soup_array):\n",
    "    with open('movies.csv','ab') as csvfile:\n",
    "        movies = csv.writer(csvfile)\n",
    "        for row in soup_array:\n",
    "            movies.writerow(row)\n",
    "        \n",
    "def all_scrape(character):   \n",
    "    for i in range(1,15):\n",
    "        url = 'http://www.boxofficemojo.com/movies/alphabetical.htm?letter={letter}&page={page}&p=.htm'\n",
    "        soup = url_to_soup(url.format(letter = character,page = i))\n",
    "        if soup_to_array(soup):\n",
    "            page_to_csv(soup_to_array(soup))\n",
    "        else:\n",
    "            break"
   ]
  },
  {
   "cell_type": "code",
   "execution_count": 4,
   "metadata": {
    "collapsed": true
   },
   "outputs": [],
   "source": [
    "with open('movies.csv','wb') as csvfile:\n",
    "    movies = csv.writer(csvfile)\n",
    "    movies.writerow([u'Title',\n",
    "                      u'Studio',\n",
    "                      u'Total Gross','TTheaters',\n",
    "                      u'Opening','OTheaters',\n",
    "                      u'Open'])"
   ]
  },
  {
   "cell_type": "code",
   "execution_count": 5,
   "metadata": {
    "collapsed": false
   },
   "outputs": [],
   "source": [
    "for letter in UPPER:\n",
    "    all_scrape(letter)"
   ]
  },
  {
   "cell_type": "code",
   "execution_count": null,
   "metadata": {
    "collapsed": false
   },
   "outputs": [],
   "source": [
    "nltk.pos_tag('A-team')"
   ]
  },
  {
   "cell_type": "code",
   "execution_count": null,
   "metadata": {
    "collapsed": false
   },
   "outputs": [],
   "source": [
    "UPPER"
   ]
  },
  {
   "cell_type": "code",
   "execution_count": null,
   "metadata": {
    "collapsed": false
   },
   "outputs": [],
   "source": [
    "print UPPER"
   ]
  },
  {
   "cell_type": "code",
   "execution_count": null,
   "metadata": {
    "collapsed": true
   },
   "outputs": [],
   "source": []
  }
 ],
 "metadata": {
  "kernelspec": {
   "display_name": "Python 2",
   "language": "python",
   "name": "python2"
  },
  "language_info": {
   "codemirror_mode": {
    "name": "ipython",
    "version": 2
   },
   "file_extension": ".py",
   "mimetype": "text/x-python",
   "name": "python",
   "nbconvert_exporter": "python",
   "pygments_lexer": "ipython2",
   "version": "2.7.11"
  }
 },
 "nbformat": 4,
 "nbformat_minor": 0
}
